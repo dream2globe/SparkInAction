{
 "cells": [
  {
   "cell_type": "markdown",
   "metadata": {},
   "source": [
    "# Spark container 실행 방법\n",
    "\n",
    "## 확인 사항\n",
    "* volume path(docker-compose.yml)\n",
    "    * mariadb\n",
    "    * jupyter lab\n",
    "* expose port(Dockerfile, docker-compose.yml)\n",
    "    * 이미 사용하고 있는 port는 아닌지 확인\n",
    "\n",
    "## docker-composer 실행 순서\n",
    "* docker-composer - Dockerfile - scripts/entrypoint.sh\n",
    "* 명령어\n",
    "    * docker-compose up --build\n",
    "    \n",
    "## 주의 \n",
    "* entrypoint.sh schema init 은 최소 1회만 실행 (최소 실행 후 주석처리)"
   ]
  },
  {
   "cell_type": "markdown",
   "metadata": {},
   "source": [
    "# Spark Session"
   ]
  },
  {
   "cell_type": "code",
   "execution_count": 1,
   "metadata": {},
   "outputs": [],
   "source": [
    "from pyspark.sql import SparkSession\n",
    "import pyspark.sql.functions as F\n",
    "from pyspark.sql import types as T\n",
    "\n",
    "spark = (\n",
    "    SparkSession\n",
    "    .builder\n",
    "    .appName(\"Last Chapter\")\n",
    "    .master(\"local[*]\")\n",
    "    .config(\"hive.metastore.uris\", \"thrift://0.0.0.0:9083\")\n",
    "    .enableHiveSupport()\n",
    "    .getOrCreate()\n",
    ")"
   ]
  },
  {
   "cell_type": "code",
   "execution_count": 2,
   "metadata": {},
   "outputs": [
    {
     "data": {
      "text/plain": [
       "[Database(name='default', description='Default Hive database', locationUri='file:/home/jovyan/work/spark-warehouse')]"
      ]
     },
     "execution_count": 2,
     "metadata": {},
     "output_type": "execute_result"
    }
   ],
   "source": [
    "spark.catalog.listDatabases()"
   ]
  },
  {
   "cell_type": "markdown",
   "metadata": {},
   "source": [
    "# Structured Dataframe API\n",
    "\n",
    "* ch04_data_transactions.txt\n",
    "    * 구매 날짜, 시간, 고객 ID, 상품 ID, 구매 수량, 구매 금액"
   ]
  },
  {
   "cell_type": "code",
   "execution_count": 3,
   "metadata": {},
   "outputs": [
    {
     "name": "stdout",
     "output_type": "stream",
     "text": [
      "2015-03-30#6:55 AM#51#68#1#9506.21\n",
      "2015-03-30#7:39 PM#99#86#5#4107.59\n",
      "2015-03-30#11:57 AM#79#58#7#2987.22\n",
      "2015-03-30#12:46 AM#51#50#6#7501.89\n",
      "2015-03-30#11:39 AM#86#24#5#8370.2\n",
      "2015-03-30#10:35 AM#63#19#5#1023.57\n",
      "2015-03-30#2:30 AM#23#77#7#5892.41\n",
      "2015-03-30#7:41 PM#49#58#4#9298.18\n",
      "2015-03-30#9:18 AM#97#86#8#9462.89\n",
      "2015-03-30#10:06 PM#94#26#4#4199.15\n"
     ]
    }
   ],
   "source": [
    "!head ../book-samples/ch04/ch04_data_transactions.txt "
   ]
  },
  {
   "cell_type": "code",
   "execution_count": 4,
   "metadata": {},
   "outputs": [],
   "source": [
    "transactions_schema = T.StructType([\n",
    "    T.StructField(\"DATE\", T.StringType(), True),\n",
    "    T.StructField(\"TIME\", T.StringType(), True),\n",
    "    T.StructField(\"CUSTOMER_ID\", T.StringType(), True),\n",
    "    T.StructField(\"PRODUCT_ID\", T.StringType(), True),\n",
    "    T.StructField(\"QUANTITY\", T.StringType(), True),\n",
    "    T.StructField(\"AMOUNT\", T.StringType(), True),\n",
    "])"
   ]
  },
  {
   "cell_type": "code",
   "execution_count": 5,
   "metadata": {},
   "outputs": [
    {
     "name": "stdout",
     "output_type": "stream",
     "text": [
      "the num of rows: 1000\n"
     ]
    }
   ],
   "source": [
    "trans_df = spark.read.csv(\n",
    "    \"../book-samples/ch04/ch04_data_transactions.txt\",\n",
    "    sep=\"#\",\n",
    "    schema=transactions_schema\n",
    ")\n",
    "\n",
    "trans_df = trans_df.withColumn(\"DATE\", F.to_date(F.col(\"DATE\"), \"yyyy-MM-dd\"))\n",
    "trans_df = trans_df.withColumn(\"DATETIME\", F.concat(F.col(\"DATE\"), F.lit(\" \"), F.col(\"TIME\")))\n",
    "trans_df = trans_df.withColumn(\"DATETIME\", F.to_timestamp(F.col(\"DATETIME\"), \"yyyy-MM-dd H:mm a\"))\n",
    "print(\"the num of rows:\", trans_df.count())"
   ]
  },
  {
   "cell_type": "code",
   "execution_count": 6,
   "metadata": {},
   "outputs": [
    {
     "name": "stdout",
     "output_type": "stream",
     "text": [
      "+----------+--------+-----------+----------+--------+-------+-------------------+\n",
      "|      DATE|    TIME|CUSTOMER_ID|PRODUCT_ID|QUANTITY| AMOUNT|           DATETIME|\n",
      "+----------+--------+-----------+----------+--------+-------+-------------------+\n",
      "|2015-03-30| 6:55 AM|         51|        68|       1|9506.21|2015-03-30 06:55:00|\n",
      "|2015-03-30| 7:39 PM|         99|        86|       5|4107.59|               null|\n",
      "|2015-03-30|11:57 AM|         79|        58|       7|2987.22|2015-03-30 11:57:00|\n",
      "|2015-03-30|12:46 AM|         51|        50|       6|7501.89|               null|\n",
      "|2015-03-30|11:39 AM|         86|        24|       5| 8370.2|2015-03-30 11:39:00|\n",
      "|2015-03-30|10:35 AM|         63|        19|       5|1023.57|2015-03-30 10:35:00|\n",
      "|2015-03-30| 2:30 AM|         23|        77|       7|5892.41|2015-03-30 02:30:00|\n",
      "|2015-03-30| 7:41 PM|         49|        58|       4|9298.18|               null|\n",
      "|2015-03-30| 9:18 AM|         97|        86|       8|9462.89|2015-03-30 09:18:00|\n",
      "|2015-03-30|10:06 PM|         94|        26|       4|4199.15|               null|\n",
      "|2015-03-30|10:57 AM|         91|        18|       1|3795.73|2015-03-30 10:57:00|\n",
      "|2015-03-30| 7:43 AM|         20|        86|      10|1477.35|2015-03-30 07:43:00|\n",
      "|2015-03-30| 5:58 PM|         38|        39|       6| 1090.0|               null|\n",
      "|2015-03-30| 1:08 PM|         46|         6|      10|1014.78|               null|\n",
      "|2015-03-30|12:18 AM|         56|        48|       9|8346.42|               null|\n",
      "|2015-03-30| 1:18 AM|         11|        58|       4| 364.59|2015-03-30 01:18:00|\n",
      "|2015-03-30| 3:01 AM|         59|         9|       5|5984.68|2015-03-30 03:01:00|\n",
      "|2015-03-30|11:44 AM|          8|        35|       6| 1859.2|2015-03-30 11:44:00|\n",
      "|2015-03-30|12:05 PM|         23|         8|       3|1527.04|2015-03-30 12:05:00|\n",
      "|2015-03-30| 4:10 AM|         85|        93|       9|3314.71|2015-03-30 04:10:00|\n",
      "+----------+--------+-----------+----------+--------+-------+-------------------+\n",
      "only showing top 20 rows\n",
      "\n"
     ]
    }
   ],
   "source": [
    "trans_df.show()"
   ]
  },
  {
   "cell_type": "markdown",
   "metadata": {},
   "source": [
    "* ch04_data_product.txt\n",
    "    * 구매 날짜, 시간, 고객 ID, 상품 ID, 구매 수량, 구매 금액"
   ]
  },
  {
   "cell_type": "code",
   "execution_count": 7,
   "metadata": {},
   "outputs": [
    {
     "name": "stdout",
     "output_type": "stream",
     "text": [
      "1#ROBITUSSIN PEAK COLD NIGHTTIME COLD PLUS FLU#9721.89#10\n",
      "2#Mattel Little Mommy Doctor Doll#6060.78#6\n",
      "3#Cute baby doll, battery#1808.79#2\n",
      "4#Bear doll#51.06#6\n",
      "5#LEGO Legends of Chima#849.36#6\n",
      "6#LEGO Castle#4777.51#10\n",
      "7#LEGO Mixels#8720.91#1\n",
      "8#LEGO Star Wars#7592.44#4\n",
      "9#LEGO Lord of the Rings#851.67#2\n",
      "10#LEGO The Hobbit#7314.55#9\n"
     ]
    }
   ],
   "source": [
    "!head ../book-samples/ch04/ch04_data_products.txt"
   ]
  },
  {
   "cell_type": "code",
   "execution_count": 8,
   "metadata": {},
   "outputs": [],
   "source": [
    "prod_schema = T.StructType([\n",
    "    T.StructField(\"PRODUCT_ID\", T.StringType(), True),\n",
    "    T.StructField(\"PRODUCT_NAME\", T.StringType(), True),\n",
    "    T.StructField(\"PRICE\", T.StringType(), True),\n",
    "    T.StructField(\"INDEX\", T.StringType(), True),\n",
    "])"
   ]
  },
  {
   "cell_type": "code",
   "execution_count": 9,
   "metadata": {},
   "outputs": [
    {
     "name": "stdout",
     "output_type": "stream",
     "text": [
      "+----------+--------------------+-------+-----+\n",
      "|PRODUCT_ID|        PRODUCT_NAME|  PRICE|INDEX|\n",
      "+----------+--------------------+-------+-----+\n",
      "|         1|ROBITUSSIN PEAK C...|9721.89|   10|\n",
      "|         2|Mattel Little Mom...|6060.78|    6|\n",
      "|         3|Cute baby doll, b...|1808.79|    2|\n",
      "|         4|           Bear doll|  51.06|    6|\n",
      "|         5|LEGO Legends of C...| 849.36|    6|\n",
      "|         6|         LEGO Castle|4777.51|   10|\n",
      "|         7|         LEGO Mixels|8720.91|    1|\n",
      "|         8|      LEGO Star Wars|7592.44|    4|\n",
      "|         9|LEGO Lord of the ...| 851.67|    2|\n",
      "|        10|     LEGO The Hobbit|7314.55|    9|\n",
      "|        11|      LEGO Minecraft|5646.81|    3|\n",
      "|        12|   LEGO Hero Factory| 6911.2|    1|\n",
      "|        13|   LEGO Architecture| 604.58|    5|\n",
      "|        14|        LEGO Technic|7423.48|    3|\n",
      "|        15|LEGO Storage & Ac...|3125.96|    2|\n",
      "|        16|        LEGO Classic| 9933.3|   10|\n",
      "|        17|   LEGO Galaxy Squad|5593.16|    4|\n",
      "|        18|     LEGO Mindstorms|6022.88|   10|\n",
      "|        19|    LEGO Minifigures|5775.99|    1|\n",
      "|        20|          LEGO Elves|4589.79|    4|\n",
      "|        21| LEGO Jurassic World|4330.68|    7|\n",
      "|        22| LEGO Speed Champion|8486.42|    2|\n",
      "|        23|       LEGO Bionicle|6878.18|   10|\n",
      "|        24|        LEGO Pirates|4150.34|    2|\n",
      "|        25|Barbie Shopping M...|  437.5|    9|\n",
      "+----------+--------------------+-------+-----+\n",
      "only showing top 25 rows\n",
      "\n"
     ]
    }
   ],
   "source": [
    "prod_df = spark.read.csv(\n",
    "    \"../book-samples/ch04/ch04_data_products.txt\",\n",
    "    sep=\"#\",\n",
    "    schema=prod_schema\n",
    ")\n",
    "\n",
    "prod_df.show(25)"
   ]
  },
  {
   "cell_type": "markdown",
   "metadata": {},
   "source": [
    "# 데이터 분석\n",
    "* 구매 횟수가 가장 많은 고객\n",
    "* 바비 놀이세트(ID 25) 를 2개 이상 구매한 경우 5% 할인\n",
    "* 사전을 다섯 권 이상 구매한 고객\n",
    "* 가장 많은 금액을 지출한 고객\n",
    "* 어제 판매한 상품 이름과 각 상품별 매출액 합계\n",
    "* 어제 판매하지 않은 상품 목록\n",
    "* 전일 판매 실적 통계: 고객별 평균, 최저 가격, 최고 가격, 구매 금액 합계"
   ]
  },
  {
   "cell_type": "markdown",
   "metadata": {},
   "source": [
    "* 구매 횟수가 가장 많은 고객"
   ]
  },
  {
   "cell_type": "code",
   "execution_count": 10,
   "metadata": {},
   "outputs": [
    {
     "name": "stdout",
     "output_type": "stream",
     "text": [
      "+-----------+-----+\n",
      "|CUSTOMER_ID|count|\n",
      "+-----------+-----+\n",
      "|         53|   19|\n",
      "|         51|   18|\n",
      "|         56|   17|\n",
      "|          2|   15|\n",
      "|         76|   15|\n",
      "|         31|   14|\n",
      "|         50|   14|\n",
      "|         32|   14|\n",
      "|         34|   14|\n",
      "|         21|   13|\n",
      "|         79|   13|\n",
      "|         91|   13|\n",
      "|         23|   13|\n",
      "|         47|   13|\n",
      "|          3|   13|\n",
      "|         82|   13|\n",
      "|         58|   13|\n",
      "|         55|   13|\n",
      "|         17|   13|\n",
      "|         41|   12|\n",
      "+-----------+-----+\n",
      "only showing top 20 rows\n",
      "\n"
     ]
    }
   ],
   "source": [
    "(\n",
    "    trans_df.groupby(\"CUSTOMER_ID\")\n",
    "    .count()\n",
    "    .sort(F.desc(\"count\"))\n",
    ").show()"
   ]
  },
  {
   "cell_type": "markdown",
   "metadata": {},
   "source": [
    "* 바비 놀이세트(ID 25) 를 2개 이상 구매한 경우 5% 할인"
   ]
  },
  {
   "cell_type": "code",
   "execution_count": 11,
   "metadata": {},
   "outputs": [
    {
     "name": "stdout",
     "output_type": "stream",
     "text": [
      "+----------+--------+-----------+----------+--------+-------+-------------------+-----------------+\n",
      "|      DATE|    TIME|CUSTOMER_ID|PRODUCT_ID|QUANTITY| AMOUNT|           DATETIME|         DISCOUNT|\n",
      "+----------+--------+-----------+----------+--------+-------+-------------------+-----------------+\n",
      "|2015-03-30| 5:55 AM|         25|        25|       1|5089.02|2015-03-30 05:55:00|          5089.02|\n",
      "|2015-03-30| 6:26 PM|         17|        25|       6|7193.11|               null|6833.454499999999|\n",
      "|2015-03-30| 7:27 AM|         93|        25|       7|2749.15|2015-03-30 07:27:00|        2611.6925|\n",
      "|2015-03-30| 5:34 AM|        100|        25|       1|7520.96|2015-03-30 05:34:00|          7520.96|\n",
      "|2015-03-30| 1:07 AM|         68|        25|       9|8391.61|2015-03-30 01:07:00|7972.029500000001|\n",
      "|2015-03-30| 1:23 AM|         59|        25|       5|5296.69|2015-03-30 01:23:00|        5031.8555|\n",
      "|2015-03-30| 9:45 AM|         42|        25|      10|1363.97|2015-03-30 09:45:00|        1295.7715|\n",
      "|2015-03-30|10:40 PM|         77|        25|       3|3345.81|               null|        3178.5195|\n",
      "|2015-03-30|12:53 PM|         22|        25|       9|6996.42|2015-03-30 12:53:00|         6646.599|\n",
      "|2015-03-30|12:44 AM|         32|        25|       8| 8849.5|               null|         8407.025|\n",
      "|2015-03-30| 5:30 PM|         75|        25|      10|3557.01|               null|        3379.1595|\n",
      "+----------+--------+-----------+----------+--------+-------+-------------------+-----------------+\n",
      "\n"
     ]
    }
   ],
   "source": [
    "discount_condition = (F.col(\"QUANTITY\") > 1) & (F.col(\"PRODUCT_ID\") == 25)\n",
    "\n",
    "trans_df = trans_df.withColumn(\"DISCOUNT\", F.when(discount_condition, F.col(\"AMOUNT\")*0.95).otherwise(F.col(\"AMOUNT\")))\n",
    "trans_df.where(F.col(\"PRODUCT_ID\") == 25).show()"
   ]
  },
  {
   "cell_type": "markdown",
   "metadata": {},
   "source": [
    "* 사전을 다섯 권 이상 구매한 고객"
   ]
  },
  {
   "cell_type": "code",
   "execution_count": 12,
   "metadata": {},
   "outputs": [
    {
     "name": "stdout",
     "output_type": "stream",
     "text": [
      "+----------+------------+-----+-----+\n",
      "|PRODUCT_ID|PRODUCT_NAME|PRICE|INDEX|\n",
      "+----------+------------+-----+-----+\n",
      "|        81|  Dictionary|29.65|    4|\n",
      "+----------+------------+-----+-----+\n",
      "\n"
     ]
    }
   ],
   "source": [
    "prod_df.where(F.lower(F.col(\"PRODUCT_NAME\")).like(\"%dic%\")).show() # ID는 81번"
   ]
  },
  {
   "cell_type": "code",
   "execution_count": 13,
   "metadata": {},
   "outputs": [
    {
     "name": "stdout",
     "output_type": "stream",
     "text": [
      "+-----------+\n",
      "|CUSTOMER_ID|\n",
      "+-----------+\n",
      "|         85|\n",
      "|         16|\n",
      "|         47|\n",
      "|         77|\n",
      "|         82|\n",
      "|         10|\n",
      "+-----------+\n",
      "\n"
     ]
    }
   ],
   "source": [
    "(\n",
    "    trans_df.join(prod_df, \"PRODUCT_ID\", \"left\")\n",
    "    .where(F.col(\"PRODUCT_NAME\") == \"Dictionary\")\n",
    "    .where(F.col(\"QUANTITY\") >= 5)\n",
    "    .select(\"CUSTOMER_ID\")\n",
    "    .distinct()\n",
    ").show()"
   ]
  },
  {
   "cell_type": "markdown",
   "metadata": {},
   "source": [
    "* 가장 많은 금액을 지불한 고객"
   ]
  },
  {
   "cell_type": "code",
   "execution_count": 14,
   "metadata": {},
   "outputs": [
    {
     "name": "stdout",
     "output_type": "stream",
     "text": [
      "+------------------+------------------+\n",
      "|first(CUSTOMER_ID)|   max(AMOUNT_SUM)|\n",
      "+------------------+------------------+\n",
      "|                76|100049.00000000001|\n",
      "+------------------+------------------+\n",
      "\n"
     ]
    }
   ],
   "source": [
    "(\n",
    "    trans_df.groupby(\"CUSTOMER_ID\")\n",
    "    .agg(\n",
    "        F.sum(F.col(\"AMOUNT\")).alias(\"AMOUNT_SUM\"),\n",
    "        F.last(F.col(\"AMOUNT\")).alias(\"AMOUNT_LAST\")\n",
    "    )\n",
    "    .sort(F.desc(\"AMOUNT_SUM\"))\n",
    "    .select(F.first(\"CUSTOMER_ID\"), F.max(\"AMOUNT_SUM\"))\n",
    ").show()"
   ]
  },
  {
   "cell_type": "markdown",
   "metadata": {},
   "source": [
    "* 어제 판매한 상품 이름과 각 상품별 매출액 합계"
   ]
  },
  {
   "cell_type": "code",
   "execution_count": 15,
   "metadata": {},
   "outputs": [
    {
     "data": {
      "text/plain": [
       "1000"
      ]
     },
     "execution_count": 15,
     "metadata": {},
     "output_type": "execute_result"
    }
   ],
   "source": [
    "(\n",
    "    trans_df.join(prod_df, \"PRODUCT_ID\", \"left\")\n",
    ").count()"
   ]
  },
  {
   "cell_type": "code",
   "execution_count": 16,
   "metadata": {},
   "outputs": [
    {
     "name": "stdout",
     "output_type": "stream",
     "text": [
      "+--------------------+------------------+\n",
      "|        PRODUCT_NAME|            AMOUNT|\n",
      "+--------------------+------------------+\n",
      "|          Gabapentin|          51227.19|\n",
      "|    LEGO Minifigures| 46486.00000000001|\n",
      "|   CUPRUM METALLICUM|          34805.73|\n",
      "|      LEGO Minecraft| 64525.33999999999|\n",
      "|ATOPALM MUSCLE AN...|          31049.07|\n",
      "|Far Cry 4 Limited...| 82055.45999999999|\n",
      "|healthy accents s...|          46411.33|\n",
      "|Brimonidine Tartrate|59283.189999999995|\n",
      "|Treatment Set TS3...|          40571.76|\n",
      "|AMBROSIA TRIFIDA ...|          48601.89|\n",
      "|Star Wars Republi...|          41679.19|\n",
      "|Essentials Dantes...| 37302.96000000001|\n",
      "|           Acyclovir|          26047.72|\n",
      "|              Ativan|          31498.84|\n",
      "|              Grippe|25839.770000000004|\n",
      "|     LEGO The Hobbit|47085.590000000004|\n",
      "| LEGO Jurassic World|            947.76|\n",
      "|Santalia Clinical...|          49245.05|\n",
      "|           Alphanate|           50917.7|\n",
      "|Essentials Medal ...|20736.739999999998|\n",
      "+--------------------+------------------+\n",
      "only showing top 20 rows\n",
      "\n"
     ]
    }
   ],
   "source": [
    "(\n",
    "    trans_df.join(prod_df, \"PRODUCT_ID\", \"left\")\n",
    "    .groupby(\"PRODUCT_NAME\")\n",
    "    .agg(\n",
    "        F.sum(\"AMOUNT\").alias(\"AMOUNT\")\n",
    "    )\n",
    ").show()"
   ]
  },
  {
   "cell_type": "markdown",
   "metadata": {},
   "source": [
    "* 어제 판매하지 않은 상품 목록"
   ]
  },
  {
   "cell_type": "code",
   "execution_count": 17,
   "metadata": {},
   "outputs": [
    {
     "data": {
      "text/plain": [
       "4"
      ]
     },
     "execution_count": 17,
     "metadata": {},
     "output_type": "execute_result"
    }
   ],
   "source": [
    "(\n",
    "    prod_df.join(trans_df, \"PRODUCT_ID\", \"leftanti\")\n",
    ").count()"
   ]
  },
  {
   "cell_type": "code",
   "execution_count": 19,
   "metadata": {},
   "outputs": [
    {
     "name": "stdout",
     "output_type": "stream",
     "text": [
      "+----+----+-----------+----------+--------+------+--------+--------+\n",
      "|DATE|TIME|CUSTOMER_ID|PRODUCT_ID|QUANTITY|AMOUNT|DATETIME|DISCOUNT|\n",
      "+----+----+-----------+----------+--------+------+--------+--------+\n",
      "+----+----+-----------+----------+--------+------+--------+--------+\n",
      "\n"
     ]
    }
   ],
   "source": [
    "trans_df.where(F.col(\"PRODUCT_ID\") == 20).show()"
   ]
  },
  {
   "cell_type": "markdown",
   "metadata": {},
   "source": [
    "* 판매실적 통계"
   ]
  },
  {
   "cell_type": "code",
   "execution_count": 27,
   "metadata": {},
   "outputs": [
    {
     "name": "stdout",
     "output_type": "stream",
     "text": [
      "+-----------+------------------+----------+----------+----------------------+\n",
      "|CUSTOMER_ID|avg(PRICE)        |max(PRICE)|min(PRICE)|sum(AMOUNT_BY_PRODUCT)|\n",
      "+-----------+------------------+----------+----------+----------------------+\n",
      "|51         |4973.745          |9721.89   |1305.04   |83312.11999999998     |\n",
      "|7          |4592.275          |8720.91   |3003.77   |50079.82              |\n",
      "|15         |4067.605555555556 |9933.3    |2531.15   |55853.28              |\n",
      "|54         |5975.045714285714 |8875.2    |2626.88   |36307.04000000001     |\n",
      "|11         |5729.09875        |8693.64   |2531.15   |37276.88              |\n",
      "|29         |5384.812222222222 |8486.42   |2531.15   |31389.32              |\n",
      "|69         |5150.442857142858 |7443.91   |2509.1    |26220.12              |\n",
      "|42         |2719.5399999999995|711.88    |3003.77   |30491.92              |\n",
      "|73         |5818.978571428571 |7314.55   |4171.55   |31892.579999999998    |\n",
      "|87         |4304.635          |7907.21   |1368.53   |52329.600000000006    |\n",
      "+-----------+------------------+----------+----------+----------------------+\n",
      "only showing top 10 rows\n",
      "\n"
     ]
    }
   ],
   "source": [
    "(\n",
    "    trans_df.join(prod_df, \"PRODUCT_ID\", \"left\")\n",
    "    .groupby(\"CUSTOMER_ID\", \"PRODUCT_NAME\")\n",
    "    .agg(\n",
    "        F.last(F.col(\"PRICE\")).alias(\"PRICE\"),\n",
    "        F.sum(F.col(\"AMOUNT\")).alias(\"AMOUNT_BY_PRODUCT\"),\n",
    "    )\n",
    "    .groupby(\"CUSTOMER_ID\")\n",
    "    .agg(\n",
    "        F.avg(\"PRICE\"),\n",
    "        F.max(\"PRICE\"),\n",
    "        F.min(\"PRICE\"),\n",
    "        F.sum(\"AMOUNT_BY_PRODUCT\")\n",
    "    )\n",
    ").show(10, False)"
   ]
  },
  {
   "cell_type": "code",
   "execution_count": 56,
   "metadata": {},
   "outputs": [
    {
     "name": "stdout",
     "output_type": "stream",
     "text": [
      "+----------+----------+--------+-----------+--------+-------+-------------------+--------+--------------------------------------------+-------+-----+--------------+--------------+\n",
      "|PRODUCT_ID|DATE      |TIME    |CUSTOMER_ID|QUANTITY|AMOUNT |DATETIME           |DISCOUNT|PRODUCT_NAME                                |PRICE  |INDEX|MAX_PRICE_PROD|MIN_PRICE_PROD|\n",
      "+----------+----------+--------+-----------+--------+-------+-------------------+--------+--------------------------------------------+-------+-----+--------------+--------------+\n",
      "|57        |2015-03-30|12:12 PM|1          |2       |3614.79|2015-03-30 12:12:00|3614.79 |Notebook Lenovo U430p, 59-390459            |2626.88|2    |9721.89       |2626.88       |\n",
      "|1         |2015-03-30|6:52 PM |1          |1       |8832.77|null               |8832.77 |ROBITUSSIN PEAK COLD NIGHTTIME COLD PLUS FLU|9721.89|10   |9721.89       |2626.88       |\n",
      "|81        |2015-03-30|2:54 PM |10         |10      |9897.61|null               |9897.61 |Dictionary                                  |29.65  |4    |9721.89       |29.65         |\n",
      "|1         |2015-03-30|11:40 AM|10         |4       |8239.9 |2015-03-30 11:40:00|8239.9  |ROBITUSSIN PEAK COLD NIGHTTIME COLD PLUS FLU|9721.89|10   |9721.89       |29.65         |\n",
      "|51        |2015-03-30|7:12 PM |100        |2       |4332.29|null               |4332.29 |Essentials Tekken 6 PS3                     |8875.2 |7    |8875.2        |1305.04       |\n",
      "|96        |2015-03-30|7:08 PM |100        |6       |5965.2 |null               |5965.2  |chest congestion                            |1305.04|1    |8875.2        |1305.04       |\n",
      "|44        |2015-03-30|3:58 PM |11         |6       |2608.14|null               |2608.14 |SAMSUNG LED TV 39F5500, Full HD, USB        |2531.15|1    |8693.64       |2531.15       |\n",
      "|72        |2015-03-30|7:53 AM |11         |1       |3998.27|2015-03-30 07:53:00|3998.27 |Obao                                        |8693.64|8    |8693.64       |2531.15       |\n",
      "|26        |2015-03-30|5:02 AM |12         |9       |6337.16|2015-03-30 05:02:00|6337.16 |Barbie Beach Ken Doll                       |742.84 |5    |742.84        |2589.29       |\n",
      "|99        |2015-03-30|5:29 PM |12         |3       |140.46 |null               |140.46  |Bronchitis                                  |2589.29|2    |742.84        |2589.29       |\n",
      "|26        |2015-03-30|4:37 PM |12         |2       |9341.65|null               |9341.65 |Barbie Beach Ken Doll                       |742.84 |5    |742.84        |2589.29       |\n",
      "|72        |2015-03-30|2:28 PM |13         |9       |4751.32|null               |4751.32 |Obao                                        |8693.64|8    |8693.64       |1368.53       |\n",
      "|67        |2015-03-30|11:07 PM|13         |6       |646.11 |null               |646.11  |Grippe                                      |1368.53|8    |8693.64       |1368.53       |\n",
      "|75        |2015-03-30|5:49 AM |14         |4       |6469.95|2015-03-30 05:49:00|6469.95 |Levalbuterol Hydrochloride                  |866.69 |7    |866.69        |1305.04       |\n",
      "|96        |2015-03-30|6:58 PM |14         |9       |8132.0 |null               |8132.0  |chest congestion                            |1305.04|1    |866.69        |1305.04       |\n",
      "|44        |2015-03-30|4:26 PM |15         |1       |6619.7 |null               |6619.7  |SAMSUNG LED TV 39F5500, Full HD, USB        |2531.15|1    |9933.3        |2531.15       |\n",
      "|16        |2015-03-30|8:10 AM |15         |6       |9310.25|2015-03-30 08:10:00|9310.25 |LEGO Classic                                |9933.3 |10   |9933.3        |2531.15       |\n",
      "|97        |2015-03-30|9:57 AM |16         |2       |6441.37|2015-03-30 09:57:00|6441.37 |Santalia Clinical Intenstive Spot Treatment |8835.52|1    |8835.52       |1544.25       |\n",
      "|97        |2015-03-30|4:55 PM |16         |8       |2876.79|null               |2876.79 |Santalia Clinical Intenstive Spot Treatment |8835.52|1    |8835.52       |1544.25       |\n",
      "|94        |2015-03-30|3:36 PM |16         |8       |980.18 |null               |980.18  |ATOPALM MUSCLE AND JOINT                    |1544.25|7    |8835.52       |1544.25       |\n",
      "|98        |2015-03-30|12:43 AM|17         |7       |2738.36|null               |2738.36 |Gabapentin                                  |8763.57|5    |8763.57       |2531.15       |\n",
      "|44        |2015-03-30|7:58 AM |17         |7       |6355.24|2015-03-30 07:58:00|6355.24 |SAMSUNG LED TV 39F5500, Full HD, USB        |2531.15|1    |8763.57       |2531.15       |\n",
      "|89        |2015-03-30|4:15 AM |18         |5       |7115.13|2015-03-30 04:15:00|7115.13 |Glipizide                                   |9376.44|5    |9376.44       |3132.7        |\n",
      "|32        |2015-03-30|9:40 PM |18         |9       |1380.76|null               |1380.76 |Intel Core i7 3770K                         |3132.7 |8    |9376.44       |3132.7        |\n",
      "|22        |2015-03-30|7:08 PM |19         |7       |5540.66|null               |5540.66 |LEGO Speed Champion                         |8486.42|2    |8486.42       |461.08        |\n",
      "|58        |2015-03-30|6:36 PM |19         |4       |5133.4 |null               |5133.4  |Notebook Lenovo U330p, 59-390439            |461.08 |3    |8486.42       |461.08        |\n",
      "|67        |2015-03-30|4:03 AM |2          |9       |3838.49|2015-03-30 04:03:00|3838.49 |Grippe                                      |1368.53|8    |9721.89       |1368.53       |\n",
      "|1         |2015-03-30|9:37 AM |2          |4       |4731.45|2015-03-30 09:37:00|4731.45 |ROBITUSSIN PEAK COLD NIGHTTIME COLD PLUS FLU|9721.89|10   |9721.89       |1368.53       |\n",
      "|86        |2015-03-30|7:43 AM |20         |10      |1477.35|2015-03-30 07:43:00|1477.35 |Jantoven                                    |3255.4 |9    |9933.3        |3255.4        |\n",
      "|16        |2015-03-30|4:16 AM |20         |2       |416.72 |2015-03-30 04:16:00|416.72  |LEGO Classic                                |9933.3 |10   |9933.3        |3255.4        |\n",
      "|89        |2015-03-30|7:15 PM |21         |5       |8161.42|null               |8161.42 |Glipizide                                   |9376.44|5    |9376.44       |2044.61       |\n",
      "|84        |2015-03-30|1:06 AM |21         |1       |6771.42|2015-03-30 01:06:00|6771.42 |Cyanocobalamin                              |2044.61|8    |9376.44       |2044.61       |\n",
      "|98        |2015-03-30|6:11 PM |22         |7       |2657.75|null               |2657.75 |Gabapentin                                  |8763.57|5    |8763.57       |2626.88       |\n",
      "|57        |2015-03-30|5:57 PM |22         |4       |5034.74|null               |5034.74 |Notebook Lenovo U430p, 59-390459            |2626.88|2    |8763.57       |2626.88       |\n",
      "|98        |2015-03-30|2:57 AM |23         |5       |7128.24|2015-03-30 02:57:00|7128.24 |Gabapentin                                  |8763.57|5    |8763.57       |1305.04       |\n",
      "|96        |2015-03-30|2:12 AM |23         |3       |1428.89|2015-03-30 02:12:00|1428.89 |chest congestion                            |1305.04|1    |8763.57       |1305.04       |\n",
      "|60        |2015-03-30|4:49 PM |24         |2       |4336.67|null               |4336.67 |PC HP 490PD MT, D5T62EA                     |2709.54|6    |9721.89       |2709.54       |\n",
      "|1         |2015-03-30|1:08 PM |24         |3       |1892.3 |null               |1892.3  |ROBITUSSIN PEAK COLD NIGHTTIME COLD PLUS FLU|9721.89|10   |9721.89       |2709.54       |\n",
      "|16        |2015-03-30|4:05 AM |25         |8       |4781.59|2015-03-30 04:05:00|4781.59 |LEGO Classic                                |9933.3 |10   |9933.3        |3125.96       |\n",
      "|15        |2015-03-30|2:56 PM |25         |8       |8541.91|null               |8541.91 |LEGO Storage & Accessories                  |3125.96|2    |9933.3        |3125.96       |\n",
      "|16        |2015-03-30|3:10 PM |25         |10      |9659.45|null               |9659.45 |LEGO Classic                                |9933.3 |10   |9933.3        |3125.96       |\n",
      "|89        |2015-03-30|8:13 PM |26         |6       |8779.31|null               |8779.31 |Glipizide                                   |9376.44|5    |9376.44       |4171.55       |\n",
      "|76        |2015-03-30|1:32 PM |26         |10      |5758.57|null               |5758.57 |Caldyphen Clear                             |4171.55|1    |9376.44       |4171.55       |\n",
      "|84        |2015-03-30|11:22 AM|27         |9       |7553.43|2015-03-30 11:22:00|7553.43 |Cyanocobalamin                              |2044.61|8    |9721.89       |2044.61       |\n",
      "|1         |2015-03-30|12:11 PM|27         |7       |9857.41|2015-03-30 12:11:00|9857.41 |ROBITUSSIN PEAK COLD NIGHTTIME COLD PLUS FLU|9721.89|10   |9721.89       |2044.61       |\n",
      "|97        |2015-03-30|8:54 AM |28         |7       |5428.66|2015-03-30 08:54:00|5428.66 |Santalia Clinical Intenstive Spot Treatment |8835.52|1    |8835.52       |3906.32       |\n",
      "|61        |2015-03-30|5:46 AM |28         |8       |2546.07|2015-03-30 05:46:00|2546.07 |PC HP 490PD MT, D5T68EA                     |3906.32|4    |8835.52       |3906.32       |\n",
      "|44        |2015-03-30|11:40 PM|29         |6       |7914.25|null               |7914.25 |SAMSUNG LED TV 39F5500, Full HD, USB        |2531.15|1    |8486.42       |2531.15       |\n",
      "|22        |2015-03-30|1:08 PM |29         |1       |5270.83|null               |5270.83 |LEGO Speed Champion                         |8486.42|2    |8486.42       |2531.15       |\n",
      "|95        |2015-03-30|5:08 AM |3          |5       |9863.92|2015-03-30 05:08:00|9863.92 |Cosopt                                      |8255.65|9    |8255.65       |2589.29       |\n",
      "|99        |2015-03-30|4:48 PM |3          |8       |2896.21|null               |2896.21 |Bronchitis                                  |2589.29|2    |8255.65       |2589.29       |\n",
      "|82        |2015-03-30|5:24 PM |30         |9       |1329.41|null               |1329.41 |Scrub Care Povidone Iodine Cleansing Scrub  |3117.79|3    |9721.89       |3117.79       |\n",
      "|1         |2015-03-30|7:38 AM |30         |5       |2516.55|2015-03-30 07:38:00|2516.55 |ROBITUSSIN PEAK COLD NIGHTTIME COLD PLUS FLU|9721.89|10   |9721.89       |3117.79       |\n",
      "|1         |2015-03-30|3:59 PM |31         |10      |4467.35|null               |4467.35 |ROBITUSSIN PEAK COLD NIGHTTIME COLD PLUS FLU|9721.89|10   |9721.89       |3117.79       |\n",
      "|82        |2015-03-30|7:38 PM |31         |9       |3291.8 |null               |3291.8  |Scrub Care Povidone Iodine Cleansing Scrub  |3117.79|3    |9721.89       |3117.79       |\n",
      "|94        |2015-03-30|3:23 AM |32         |5       |3007.07|2015-03-30 03:23:00|3007.07 |ATOPALM MUSCLE AND JOINT                    |1544.25|7    |9511.99       |1544.25       |\n",
      "|83        |2015-03-30|1:25 AM |32         |9       |2521.13|2015-03-30 01:25:00|2521.13 |Ativan                                      |9511.99|9    |9511.99       |1544.25       |\n",
      "|44        |2015-03-30|12:24 PM|33         |8       |9968.64|2015-03-30 12:24:00|9968.64 |SAMSUNG LED TV 39F5500, Full HD, USB        |2531.15|1    |8720.91       |2531.15       |\n",
      "|7         |2015-03-30|9:55 AM |33         |1       |9162.34|2015-03-30 09:55:00|9162.34 |LEGO Mixels                                 |8720.91|1    |8720.91       |2531.15       |\n",
      "|5         |2015-03-30|12:41 AM|34         |5       |3742.99|null               |3742.99 |LEGO Legends of Chima                       |849.36 |6    |849.36        |2589.29       |\n",
      "|99        |2015-03-30|5:10 PM |34         |6       |6552.43|null               |6552.43 |Bronchitis                                  |2589.29|2    |849.36        |2589.29       |\n",
      "|56        |2015-03-30|11:32 AM|35         |1       |518.97 |2015-03-30 11:32:00|518.97  |Notebook Lenovo Yoga Think, 20CD0001SC      |2509.1 |5    |8486.42       |2509.1        |\n",
      "|22        |2015-03-30|7:06 PM |35         |3       |3953.01|null               |3953.01 |LEGO Speed Champion                         |8486.42|2    |8486.42       |2509.1        |\n",
      "|98        |2015-03-30|2:12 PM |36         |3       |8334.22|null               |8334.22 |Gabapentin                                  |8763.57|5    |8763.57       |2044.61       |\n",
      "|84        |2015-03-30|5:38 PM |36         |9       |1292.59|null               |1292.59 |Cyanocobalamin                              |2044.61|8    |8763.57       |2044.61       |\n",
      "|49        |2015-03-30|2:45 PM |37         |6       |4037.22|null               |4037.22 |LG LED TV 32LN5400                          |7927.19|8    |7927.19       |2709.54       |\n",
      "|60        |2015-03-30|8:02 AM |37         |1       |1226.83|2015-03-30 08:02:00|1226.83 |PC HP 490PD MT, D5T62EA                     |2709.54|6    |7927.19       |2709.54       |\n",
      "|1         |2015-03-30|7:26 AM |38         |3       |8127.18|2015-03-30 07:26:00|8127.18 |ROBITUSSIN PEAK COLD NIGHTTIME COLD PLUS FLU|9721.89|10   |9721.89       |2531.15       |\n",
      "|44        |2015-03-30|12:36 AM|38         |7       |3029.28|null               |3029.28 |SAMSUNG LED TV 39F5500, Full HD, USB        |2531.15|1    |9721.89       |2531.15       |\n",
      "|5         |2015-03-30|9:03 PM |39         |6       |5246.4 |null               |5246.4  |LEGO Legends of Chima                       |849.36 |6    |849.36        |2509.1        |\n",
      "|56        |2015-03-30|4:26 PM |39         |9       |9489.73|null               |9489.73 |Notebook Lenovo Yoga Think, 20CD0001SC      |2509.1 |5    |849.36        |2509.1        |\n",
      "|16        |2015-03-30|4:14 AM |4          |8       |3867.41|2015-03-30 04:14:00|3867.41 |LEGO Classic                                |9933.3 |10   |9933.3        |1544.25       |\n",
      "|94        |2015-03-30|10:37 AM|4          |9       |568.64 |2015-03-30 10:37:00|568.64  |ATOPALM MUSCLE AND JOINT                    |1544.25|7    |9933.3        |1544.25       |\n",
      "|50        |2015-03-30|12:39 AM|40         |10      |2535.81|null               |2535.81 |LG LED TV 32LN575S                          |8379.93|6    |8379.93       |1305.04       |\n",
      "|96        |2015-03-30|7:07 PM |40         |4       |9307.77|null               |9307.77 |chest congestion                            |1305.04|1    |8379.93       |1305.04       |\n",
      "|16        |2015-03-30|5:20 PM |41         |8       |9788.08|null               |9788.08 |LEGO Classic                                |9933.3 |10   |9933.3        |2709.54       |\n",
      "|60        |2015-03-30|2:02 AM |41         |6       |5285.55|2015-03-30 02:02:00|5285.55 |PC HP 490PD MT, D5T62EA                     |2709.54|6    |9933.3        |2709.54       |\n",
      "|28        |2015-03-30|10:31 AM|42         |1       |4336.81|2015-03-30 10:31:00|4336.81 |Far Cry 4 Limited Edition for Xbox One      |711.88 |1    |711.88        |3003.77       |\n",
      "|64        |2015-03-30|4:20 AM |42         |1       |7095.73|2015-03-30 04:20:00|7095.73 |Disposable diapers                          |3003.77|4    |711.88        |3003.77       |\n",
      "|64        |2015-03-30|1:48 PM |42         |1       |8749.65|null               |8749.65 |Disposable diapers                          |3003.77|4    |711.88        |3003.77       |\n",
      "|46        |2015-03-30|7:18 PM |43         |3       |2372.12|null               |2372.12 |SAMSUNG LED TV 32F4510, HD ready, USB       |8508.89|1    |8508.89       |2044.61       |\n",
      "|84        |2015-03-30|12:41 PM|43         |9       |6255.06|2015-03-30 12:41:00|6255.06 |Cyanocobalamin                              |2044.61|8    |8508.89       |2044.61       |\n",
      "|61        |2015-03-30|7:55 AM |44         |8       |4947.33|2015-03-30 07:55:00|4947.33 |PC HP 490PD MT, D5T68EA                     |3906.32|4    |8763.57       |3906.32       |\n",
      "|98        |2015-03-30|2:47 PM |44         |3       |4681.73|null               |4681.73 |Gabapentin                                  |8763.57|5    |8763.57       |3906.32       |\n",
      "|56        |2015-03-30|1:02 AM |45         |2       |9859.09|2015-03-30 01:02:00|9859.09 |Notebook Lenovo Yoga Think, 20CD0001SC      |2509.1 |5    |8720.91       |2509.1        |\n",
      "|7         |2015-03-30|7:14 PM |45         |8       |7068.4 |null               |7068.4  |LEGO Mixels                                 |8720.91|1    |8720.91       |2509.1        |\n",
      "|51        |2015-03-30|2:00 AM |46         |8       |5486.68|2015-03-30 02:00:00|5486.68 |Essentials Tekken 6 PS3                     |8875.2 |7    |8875.2        |3465.69       |\n",
      "|39        |2015-03-30|11:13 AM|46         |8       |1263.4 |2015-03-30 11:13:00|1263.4  |Medal Of Honor Allied Assault War Chest PC  |3465.69|9    |8875.2        |3465.69       |\n",
      "|44        |2015-03-30|9:28 AM |47         |10      |9666.09|2015-03-30 09:28:00|9666.09 |SAMSUNG LED TV 39F5500, Full HD, USB        |2531.15|1    |9933.3        |2531.15       |\n",
      "|44        |2015-03-30|11:55 PM|47         |2       |863.05 |null               |863.05  |SAMSUNG LED TV 39F5500, Full HD, USB        |2531.15|1    |9933.3        |2531.15       |\n",
      "|16        |2015-03-30|1:08 AM |47         |7       |4072.93|2015-03-30 01:08:00|4072.93 |LEGO Classic                                |9933.3 |10   |9933.3        |2531.15       |\n",
      "|16        |2015-03-30|8:43 PM |48         |7       |4768.0 |null               |4768.0  |LEGO Classic                                |9933.3 |10   |9933.3        |4037.85       |\n",
      "|52        |2015-03-30|3:06 AM |48         |7       |8148.62|2015-03-30 03:06:00|8148.62 |Essentials Crash Tag Team Racing PSP        |4037.85|10   |9933.3        |4037.85       |\n",
      "|10        |2015-03-30|9:51 AM |49         |5       |4998.03|2015-03-30 09:51:00|4998.03 |LEGO The Hobbit                             |7314.55|9    |7314.55       |1368.53       |\n",
      "|67        |2015-03-30|10:44 AM|49         |3       |5050.58|2015-03-30 10:44:00|5050.58 |Grippe                                      |1368.53|8    |7314.55       |1368.53       |\n",
      "|96        |2015-03-30|4:21 AM |5          |9       |4819.98|2015-03-30 04:21:00|4819.98 |chest congestion                            |1305.04|1    |8486.42       |1305.04       |\n",
      "|22        |2015-03-30|2:27 AM |5          |8       |8999.38|2015-03-30 02:27:00|8999.38 |LEGO Speed Champion                         |8486.42|2    |8486.42       |1305.04       |\n",
      "|89        |2015-03-30|2:59 PM |50         |1       |7753.81|null               |7753.81 |Glipizide                                   |9376.44|5    |9376.44       |1544.25       |\n",
      "|94        |2015-03-30|12:50 PM|50         |2       |9169.15|2015-03-30 12:50:00|9169.15 |ATOPALM MUSCLE AND JOINT                    |1544.25|7    |9376.44       |1544.25       |\n",
      "|96        |2015-03-30|8:45 AM |51         |8       |4937.66|2015-03-30 08:45:00|4937.66 |chest congestion                            |1305.04|1    |9721.89       |1305.04       |\n",
      "+----------+----------+--------+-----------+--------+-------+-------------------+--------+--------------------------------------------+-------+-----+--------------+--------------+\n",
      "only showing top 100 rows\n",
      "\n"
     ]
    }
   ],
   "source": [
    "from pyspark.sql.window import Window\n",
    "\n",
    "win_spec  = Window.partitionBy(\"CUSTOMER_ID\").orderBy(F.desc(\"PRICE\")).rowsBetween(Window.unboundedPreceding, Window.unboundedFollowing)\n",
    "\n",
    "(\n",
    "    trans_df.join(prod_df, \"PRODUCT_ID\", \"left\")\n",
    "    .withColumn(\"MAX_PRICE_PROD\", F.max(\"PRICE\").over(win_spec))\n",
    "    .withColumn(\"MIN_PRICE_PROD\", F.min(\"PRICE\").over(win_spec))\n",
    "    .where(\n",
    "        (F.col(\"PRICE\") == F.col(\"MAX_PRICE_PROD\")) | (F.col(\"PRICE\") == F.col(\"MIN_PRICE_PROD\"))\n",
    "    )\n",
    "    .sort(\"CUSTOMER_ID\")\n",
    ").show(100, False)"
   ]
  },
  {
   "cell_type": "code",
   "execution_count": 41,
   "metadata": {},
   "outputs": [
    {
     "name": "stdout",
     "output_type": "stream",
     "text": [
      "+-----------+-----+\n",
      "|CUSTOMER_ID|count|\n",
      "+-----------+-----+\n",
      "|         51|   18|\n",
      "|          7|   10|\n",
      "|         54|    7|\n",
      "|         15|   10|\n",
      "|         11|    8|\n",
      "|         69|    7|\n",
      "|         29|    9|\n",
      "|         42|    7|\n",
      "|         87|   10|\n",
      "|         73|    7|\n",
      "|         64|   10|\n",
      "|          3|   13|\n",
      "|         30|    5|\n",
      "|         34|   14|\n",
      "|         59|    9|\n",
      "|          8|   10|\n",
      "|         28|   11|\n",
      "|         22|   10|\n",
      "|         85|    9|\n",
      "|         35|   10|\n",
      "+-----------+-----+\n",
      "only showing top 20 rows\n",
      "\n"
     ]
    }
   ],
   "source": [
    "trans_df.groupby(\"CUSTOMER_ID\").count().show()"
   ]
  },
  {
   "cell_type": "code",
   "execution_count": null,
   "metadata": {},
   "outputs": [],
   "source": []
  }
 ],
 "metadata": {
  "kernelspec": {
   "display_name": "Python 3",
   "language": "python",
   "name": "python3"
  },
  "language_info": {
   "codemirror_mode": {
    "name": "ipython",
    "version": 3
   },
   "file_extension": ".py",
   "mimetype": "text/x-python",
   "name": "python",
   "nbconvert_exporter": "python",
   "pygments_lexer": "ipython3",
   "version": "3.8.6"
  }
 },
 "nbformat": 4,
 "nbformat_minor": 4
}
