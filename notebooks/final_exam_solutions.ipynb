{
 "cells": [
  {
   "cell_type": "markdown",
   "metadata": {},
   "source": [
    "# Spark container 실행 방법\n",
    "\n",
    "## 확인 사항\n",
    "* volume path(docker-compose.yml)\n",
    "    * mariadb\n",
    "    * jupyter lab\n",
    "* expose port(Dockerfile, docker-compose.yml)\n",
    "    * 이미 사용하고 있는 port는 아닌지 확인\n",
    "\n",
    "## docker-composer 실행 순서\n",
    "* docker-composer - Dockerfile - scripts/entrypoint.sh\n",
    "* 명령어\n",
    "    * docker-compose up --build\n",
    "    \n",
    "## 주의 \n",
    "* entrypoint.sh schema init 은 최소 1회만 실행 (최소 실행 후 주석처리)"
   ]
  },
  {
   "cell_type": "markdown",
   "metadata": {},
   "source": [
    "# Spark Session"
   ]
  },
  {
   "cell_type": "code",
   "execution_count": 1,
   "metadata": {},
   "outputs": [],
   "source": [
    "from pyspark.sql import SparkSession\n",
    "import pyspark.sql.functions as F\n",
    "from pyspark.sql import types as T\n",
    "\n",
    "spark = (\n",
    "    SparkSession\n",
    "    .builder\n",
    "    .appName(\"Last Chapter\")\n",
    "    .master(\"local[*]\")\n",
    "    .config(\"hive.metastore.uris\", \"thrift://0.0.0.0:9083\")\n",
    "    .enableHiveSupport()\n",
    "    .getOrCreate()\n",
    ")"
   ]
  },
  {
   "cell_type": "code",
   "execution_count": 2,
   "metadata": {},
   "outputs": [
    {
     "data": {
      "text/plain": [
       "[Database(name='default', description='Default Hive database', locationUri='file:/home/jovyan/work/spark-warehouse')]"
      ]
     },
     "execution_count": 2,
     "metadata": {},
     "output_type": "execute_result"
    }
   ],
   "source": [
    "spark.catalog.listDatabases()"
   ]
  },
  {
   "cell_type": "markdown",
   "metadata": {},
   "source": [
    "# Structured Dataframe API\n",
    "\n",
    "* ch04_data_transactions.txt\n",
    "    * 구매 날짜, 시간, 고객 ID, 상품 ID, 구매 수량, 구매 금액"
   ]
  },
  {
   "cell_type": "code",
   "execution_count": 3,
   "metadata": {},
   "outputs": [
    {
     "name": "stdout",
     "output_type": "stream",
     "text": [
      "2015-03-30#6:55 AM#51#68#1#9506.21\n",
      "2015-03-30#7:39 PM#99#86#5#4107.59\n",
      "2015-03-30#11:57 AM#79#58#7#2987.22\n",
      "2015-03-30#12:46 AM#51#50#6#7501.89\n",
      "2015-03-30#11:39 AM#86#24#5#8370.2\n",
      "2015-03-30#10:35 AM#63#19#5#1023.57\n",
      "2015-03-30#2:30 AM#23#77#7#5892.41\n",
      "2015-03-30#7:41 PM#49#58#4#9298.18\n",
      "2015-03-30#9:18 AM#97#86#8#9462.89\n",
      "2015-03-30#10:06 PM#94#26#4#4199.15\n"
     ]
    }
   ],
   "source": [
    "!head ../book-samples/ch04/ch04_data_transactions.txt "
   ]
  },
  {
   "cell_type": "code",
   "execution_count": 4,
   "metadata": {},
   "outputs": [],
   "source": [
    "transactions_schema = T.StructType([\n",
    "    T.StructField(\"DATE\", T.StringType(), True),\n",
    "    T.StructField(\"TIME\", T.StringType(), True),\n",
    "    T.StructField(\"CUSTOMER_ID\", T.StringType(), True),\n",
    "    T.StructField(\"PRODUCT_ID\", T.StringType(), True),\n",
    "    T.StructField(\"QUANTITY\", T.StringType(), True),\n",
    "    T.StructField(\"AMOUNT\", T.StringType(), True),\n",
    "])"
   ]
  },
  {
   "cell_type": "code",
   "execution_count": 5,
   "metadata": {},
   "outputs": [
    {
     "name": "stdout",
     "output_type": "stream",
     "text": [
      "the num of rows: 1000\n"
     ]
    }
   ],
   "source": [
    "trans_df = spark.read.csv(\n",
    "    \"../book-samples/ch04/ch04_data_transactions.txt\",\n",
    "    sep=\"#\",\n",
    "    schema=transactions_schema\n",
    ")\n",
    "\n",
    "trans_df = trans_df.withColumn(\"DATE\", F.to_date(F.col(\"DATE\"), \"yyyy-MM-dd\"))\n",
    "trans_df = trans_df.withColumn(\"DATETIME\", F.concat(F.col(\"DATE\"), F.lit(\" \"), F.col(\"TIME\")))\n",
    "trans_df = trans_df.withColumn(\"DATETIME\", F.to_timestamp(F.col(\"DATETIME\"), \"yyyy-MM-dd H:mm a\"))\n",
    "print(\"the num of rows:\", trans_df.count())"
   ]
  },
  {
   "cell_type": "code",
   "execution_count": 6,
   "metadata": {},
   "outputs": [
    {
     "name": "stdout",
     "output_type": "stream",
     "text": [
      "+----------+--------+-----------+----------+--------+-------+-------------------+\n",
      "|      DATE|    TIME|CUSTOMER_ID|PRODUCT_ID|QUANTITY| AMOUNT|           DATETIME|\n",
      "+----------+--------+-----------+----------+--------+-------+-------------------+\n",
      "|2015-03-30| 6:55 AM|         51|        68|       1|9506.21|2015-03-30 06:55:00|\n",
      "|2015-03-30| 7:39 PM|         99|        86|       5|4107.59|               null|\n",
      "|2015-03-30|11:57 AM|         79|        58|       7|2987.22|2015-03-30 11:57:00|\n",
      "|2015-03-30|12:46 AM|         51|        50|       6|7501.89|               null|\n",
      "|2015-03-30|11:39 AM|         86|        24|       5| 8370.2|2015-03-30 11:39:00|\n",
      "|2015-03-30|10:35 AM|         63|        19|       5|1023.57|2015-03-30 10:35:00|\n",
      "|2015-03-30| 2:30 AM|         23|        77|       7|5892.41|2015-03-30 02:30:00|\n",
      "|2015-03-30| 7:41 PM|         49|        58|       4|9298.18|               null|\n",
      "|2015-03-30| 9:18 AM|         97|        86|       8|9462.89|2015-03-30 09:18:00|\n",
      "|2015-03-30|10:06 PM|         94|        26|       4|4199.15|               null|\n",
      "|2015-03-30|10:57 AM|         91|        18|       1|3795.73|2015-03-30 10:57:00|\n",
      "|2015-03-30| 7:43 AM|         20|        86|      10|1477.35|2015-03-30 07:43:00|\n",
      "|2015-03-30| 5:58 PM|         38|        39|       6| 1090.0|               null|\n",
      "|2015-03-30| 1:08 PM|         46|         6|      10|1014.78|               null|\n",
      "|2015-03-30|12:18 AM|         56|        48|       9|8346.42|               null|\n",
      "|2015-03-30| 1:18 AM|         11|        58|       4| 364.59|2015-03-30 01:18:00|\n",
      "|2015-03-30| 3:01 AM|         59|         9|       5|5984.68|2015-03-30 03:01:00|\n",
      "|2015-03-30|11:44 AM|          8|        35|       6| 1859.2|2015-03-30 11:44:00|\n",
      "|2015-03-30|12:05 PM|         23|         8|       3|1527.04|2015-03-30 12:05:00|\n",
      "|2015-03-30| 4:10 AM|         85|        93|       9|3314.71|2015-03-30 04:10:00|\n",
      "+----------+--------+-----------+----------+--------+-------+-------------------+\n",
      "only showing top 20 rows\n",
      "\n"
     ]
    }
   ],
   "source": [
    "trans_df.show()"
   ]
  },
  {
   "cell_type": "markdown",
   "metadata": {},
   "source": [
    "* ch04_data_product.txt\n",
    "    * 구매 날짜, 시간, 고객 ID, 상품 ID, 구매 수량, 구매 금액"
   ]
  },
  {
   "cell_type": "code",
   "execution_count": 7,
   "metadata": {},
   "outputs": [
    {
     "name": "stdout",
     "output_type": "stream",
     "text": [
      "1#ROBITUSSIN PEAK COLD NIGHTTIME COLD PLUS FLU#9721.89#10\n",
      "2#Mattel Little Mommy Doctor Doll#6060.78#6\n",
      "3#Cute baby doll, battery#1808.79#2\n",
      "4#Bear doll#51.06#6\n",
      "5#LEGO Legends of Chima#849.36#6\n",
      "6#LEGO Castle#4777.51#10\n",
      "7#LEGO Mixels#8720.91#1\n",
      "8#LEGO Star Wars#7592.44#4\n",
      "9#LEGO Lord of the Rings#851.67#2\n",
      "10#LEGO The Hobbit#7314.55#9\n"
     ]
    }
   ],
   "source": [
    "!head ../book-samples/ch04/ch04_data_products.txt"
   ]
  },
  {
   "cell_type": "code",
   "execution_count": 8,
   "metadata": {},
   "outputs": [],
   "source": [
    "prod_schema = T.StructType([\n",
    "    T.StructField(\"PRODUCT_ID\", T.StringType(), True),\n",
    "    T.StructField(\"PRODUCT_NAME\", T.StringType(), True),\n",
    "    T.StructField(\"PRICE\", T.StringType(), True),\n",
    "    T.StructField(\"INDEX\", T.StringType(), True),\n",
    "])"
   ]
  },
  {
   "cell_type": "code",
   "execution_count": 9,
   "metadata": {},
   "outputs": [
    {
     "name": "stdout",
     "output_type": "stream",
     "text": [
      "+----------+--------------------+-------+-----+\n",
      "|PRODUCT_ID|        PRODUCT_NAME|  PRICE|INDEX|\n",
      "+----------+--------------------+-------+-----+\n",
      "|         1|ROBITUSSIN PEAK C...|9721.89|   10|\n",
      "|         2|Mattel Little Mom...|6060.78|    6|\n",
      "|         3|Cute baby doll, b...|1808.79|    2|\n",
      "|         4|           Bear doll|  51.06|    6|\n",
      "|         5|LEGO Legends of C...| 849.36|    6|\n",
      "|         6|         LEGO Castle|4777.51|   10|\n",
      "|         7|         LEGO Mixels|8720.91|    1|\n",
      "|         8|      LEGO Star Wars|7592.44|    4|\n",
      "|         9|LEGO Lord of the ...| 851.67|    2|\n",
      "|        10|     LEGO The Hobbit|7314.55|    9|\n",
      "|        11|      LEGO Minecraft|5646.81|    3|\n",
      "|        12|   LEGO Hero Factory| 6911.2|    1|\n",
      "|        13|   LEGO Architecture| 604.58|    5|\n",
      "|        14|        LEGO Technic|7423.48|    3|\n",
      "|        15|LEGO Storage & Ac...|3125.96|    2|\n",
      "|        16|        LEGO Classic| 9933.3|   10|\n",
      "|        17|   LEGO Galaxy Squad|5593.16|    4|\n",
      "|        18|     LEGO Mindstorms|6022.88|   10|\n",
      "|        19|    LEGO Minifigures|5775.99|    1|\n",
      "|        20|          LEGO Elves|4589.79|    4|\n",
      "|        21| LEGO Jurassic World|4330.68|    7|\n",
      "|        22| LEGO Speed Champion|8486.42|    2|\n",
      "|        23|       LEGO Bionicle|6878.18|   10|\n",
      "|        24|        LEGO Pirates|4150.34|    2|\n",
      "|        25|Barbie Shopping M...|  437.5|    9|\n",
      "+----------+--------------------+-------+-----+\n",
      "only showing top 25 rows\n",
      "\n"
     ]
    }
   ],
   "source": [
    "prod_df = spark.read.csv(\n",
    "    \"../book-samples/ch04/ch04_data_products.txt\",\n",
    "    sep=\"#\",\n",
    "    schema=prod_schema\n",
    ")\n",
    "\n",
    "prod_df.show(25)"
   ]
  },
  {
   "cell_type": "markdown",
   "metadata": {},
   "source": [
    "# 데이터 분석\n",
    "* 구매 횟수가 가장 많은 고객\n",
    "* 바비 놀이세트(ID 25) 를 2개 이상 구매한 경우 5% 할인\n",
    "* 사전을 다섯 권 이상 구매한 고객\n",
    "* 가장 많은 금액을 지출한 고객\n",
    "* 어제 판매한 상품 이름과 각 상품별 매출액 합계\n",
    "* 어제 판매하지 않은 상품 목록\n",
    "* 전일 판매 실적 통계: 고객별 평균, 최저 가격, 최고 가격, 구매 금액 합계"
   ]
  },
  {
   "cell_type": "markdown",
   "metadata": {},
   "source": [
    "* 구매 횟수가 가장 많은 고객"
   ]
  },
  {
   "cell_type": "code",
   "execution_count": 10,
   "metadata": {},
   "outputs": [
    {
     "name": "stdout",
     "output_type": "stream",
     "text": [
      "+-----------+-----+\n",
      "|CUSTOMER_ID|count|\n",
      "+-----------+-----+\n",
      "|         53|   19|\n",
      "|         51|   18|\n",
      "|         56|   17|\n",
      "|          2|   15|\n",
      "|         76|   15|\n",
      "|         31|   14|\n",
      "|         50|   14|\n",
      "|         32|   14|\n",
      "|         34|   14|\n",
      "|         21|   13|\n",
      "|         79|   13|\n",
      "|         91|   13|\n",
      "|         23|   13|\n",
      "|         47|   13|\n",
      "|          3|   13|\n",
      "|         82|   13|\n",
      "|         58|   13|\n",
      "|         55|   13|\n",
      "|         17|   13|\n",
      "|         41|   12|\n",
      "+-----------+-----+\n",
      "only showing top 20 rows\n",
      "\n"
     ]
    }
   ],
   "source": [
    "(\n",
    "    trans_df.groupby(\"CUSTOMER_ID\")\n",
    "    .count()\n",
    "    .sort(F.desc(\"count\"))\n",
    ").show()"
   ]
  },
  {
   "cell_type": "markdown",
   "metadata": {},
   "source": [
    "* 바비 놀이세트(ID 25) 를 2개 이상 구매한 경우 5% 할인"
   ]
  },
  {
   "cell_type": "code",
   "execution_count": 11,
   "metadata": {},
   "outputs": [
    {
     "name": "stdout",
     "output_type": "stream",
     "text": [
      "+----------+--------+-----------+----------+--------+-------+-------------------+-----------------+\n",
      "|      DATE|    TIME|CUSTOMER_ID|PRODUCT_ID|QUANTITY| AMOUNT|           DATETIME|         DISCOUNT|\n",
      "+----------+--------+-----------+----------+--------+-------+-------------------+-----------------+\n",
      "|2015-03-30| 5:55 AM|         25|        25|       1|5089.02|2015-03-30 05:55:00|          5089.02|\n",
      "|2015-03-30| 6:26 PM|         17|        25|       6|7193.11|               null|6833.454499999999|\n",
      "|2015-03-30| 7:27 AM|         93|        25|       7|2749.15|2015-03-30 07:27:00|        2611.6925|\n",
      "|2015-03-30| 5:34 AM|        100|        25|       1|7520.96|2015-03-30 05:34:00|          7520.96|\n",
      "|2015-03-30| 1:07 AM|         68|        25|       9|8391.61|2015-03-30 01:07:00|7972.029500000001|\n",
      "|2015-03-30| 1:23 AM|         59|        25|       5|5296.69|2015-03-30 01:23:00|        5031.8555|\n",
      "|2015-03-30| 9:45 AM|         42|        25|      10|1363.97|2015-03-30 09:45:00|        1295.7715|\n",
      "|2015-03-30|10:40 PM|         77|        25|       3|3345.81|               null|        3178.5195|\n",
      "|2015-03-30|12:53 PM|         22|        25|       9|6996.42|2015-03-30 12:53:00|         6646.599|\n",
      "|2015-03-30|12:44 AM|         32|        25|       8| 8849.5|               null|         8407.025|\n",
      "|2015-03-30| 5:30 PM|         75|        25|      10|3557.01|               null|        3379.1595|\n",
      "+----------+--------+-----------+----------+--------+-------+-------------------+-----------------+\n",
      "\n"
     ]
    }
   ],
   "source": [
    "discount_condition = (F.col(\"QUANTITY\") > 1) & (F.col(\"PRODUCT_ID\") == 25)\n",
    "\n",
    "trans_df = trans_df.withColumn(\"DISCOUNT\", F.when(discount_condition, F.col(\"AMOUNT\")*0.95).otherwise(F.col(\"AMOUNT\")))\n",
    "trans_df.where(F.col(\"PRODUCT_ID\") == 25).show()"
   ]
  },
  {
   "cell_type": "markdown",
   "metadata": {},
   "source": [
    "* 사전을 다섯 권 이상 구매한 고객"
   ]
  },
  {
   "cell_type": "code",
   "execution_count": 12,
   "metadata": {},
   "outputs": [
    {
     "name": "stdout",
     "output_type": "stream",
     "text": [
      "+----------+------------+-----+-----+\n",
      "|PRODUCT_ID|PRODUCT_NAME|PRICE|INDEX|\n",
      "+----------+------------+-----+-----+\n",
      "|        81|  Dictionary|29.65|    4|\n",
      "+----------+------------+-----+-----+\n",
      "\n"
     ]
    }
   ],
   "source": [
    "prod_df.where(F.lower(F.col(\"PRODUCT_NAME\")).like(\"%dic%\")).show() # ID는 81번"
   ]
  },
  {
   "cell_type": "code",
   "execution_count": 13,
   "metadata": {},
   "outputs": [
    {
     "name": "stdout",
     "output_type": "stream",
     "text": [
      "+-----------+\n",
      "|CUSTOMER_ID|\n",
      "+-----------+\n",
      "|         85|\n",
      "|         16|\n",
      "|         47|\n",
      "|         77|\n",
      "|         82|\n",
      "|         10|\n",
      "+-----------+\n",
      "\n"
     ]
    }
   ],
   "source": [
    "(\n",
    "    trans_df.join(prod_df, \"PRODUCT_ID\", \"left\")\n",
    "    .where(F.col(\"PRODUCT_NAME\") == \"Dictionary\")\n",
    "    .where(F.col(\"QUANTITY\") >= 5)\n",
    "    .select(\"CUSTOMER_ID\")\n",
    "    .distinct()\n",
    ").show()"
   ]
  },
  {
   "cell_type": "markdown",
   "metadata": {},
   "source": [
    "* 가장 많은 금액을 지불한 고객"
   ]
  },
  {
   "cell_type": "code",
   "execution_count": 14,
   "metadata": {},
   "outputs": [
    {
     "name": "stdout",
     "output_type": "stream",
     "text": [
      "+------------------+------------------+\n",
      "|first(CUSTOMER_ID)|   max(AMOUNT_SUM)|\n",
      "+------------------+------------------+\n",
      "|                76|100049.00000000001|\n",
      "+------------------+------------------+\n",
      "\n"
     ]
    }
   ],
   "source": [
    "(\n",
    "    trans_df.groupby(\"CUSTOMER_ID\")\n",
    "    .agg(\n",
    "        F.sum(F.col(\"AMOUNT\")).alias(\"AMOUNT_SUM\"),\n",
    "        F.last(F.col(\"AMOUNT\")).alias(\"AMOUNT_LAST\")\n",
    "    )\n",
    "    .sort(F.desc(\"AMOUNT_SUM\"))\n",
    "    .select(F.first(\"CUSTOMER_ID\"), F.max(\"AMOUNT_SUM\"))\n",
    ").show()"
   ]
  },
  {
   "cell_type": "markdown",
   "metadata": {},
   "source": [
    "* 어제 판매한 상품 이름과 각 상품별 매출액 합계"
   ]
  },
  {
   "cell_type": "code",
   "execution_count": 15,
   "metadata": {},
   "outputs": [
    {
     "data": {
      "text/plain": [
       "1000"
      ]
     },
     "execution_count": 15,
     "metadata": {},
     "output_type": "execute_result"
    }
   ],
   "source": [
    "(\n",
    "    trans_df.join(prod_df, \"PRODUCT_ID\", \"left\")\n",
    ").count()"
   ]
  },
  {
   "cell_type": "code",
   "execution_count": 16,
   "metadata": {},
   "outputs": [
    {
     "name": "stdout",
     "output_type": "stream",
     "text": [
      "+--------------------+------------------+\n",
      "|        PRODUCT_NAME|            AMOUNT|\n",
      "+--------------------+------------------+\n",
      "|          Gabapentin|          51227.19|\n",
      "|    LEGO Minifigures| 46486.00000000001|\n",
      "|   CUPRUM METALLICUM|          34805.73|\n",
      "|      LEGO Minecraft| 64525.33999999999|\n",
      "|ATOPALM MUSCLE AN...|          31049.07|\n",
      "|Far Cry 4 Limited...| 82055.45999999999|\n",
      "|healthy accents s...|          46411.33|\n",
      "|Brimonidine Tartrate|59283.189999999995|\n",
      "|Treatment Set TS3...|          40571.76|\n",
      "|AMBROSIA TRIFIDA ...|          48601.89|\n",
      "|Star Wars Republi...|          41679.19|\n",
      "|Essentials Dantes...| 37302.96000000001|\n",
      "|           Acyclovir|          26047.72|\n",
      "|              Ativan|          31498.84|\n",
      "|              Grippe|25839.770000000004|\n",
      "|     LEGO The Hobbit|47085.590000000004|\n",
      "| LEGO Jurassic World|            947.76|\n",
      "|Santalia Clinical...|          49245.05|\n",
      "|           Alphanate|           50917.7|\n",
      "|Essentials Medal ...|20736.739999999998|\n",
      "+--------------------+------------------+\n",
      "only showing top 20 rows\n",
      "\n"
     ]
    }
   ],
   "source": [
    "(\n",
    "    trans_df.join(prod_df, \"PRODUCT_ID\", \"left\")\n",
    "    .groupby(\"PRODUCT_NAME\")\n",
    "    .agg(\n",
    "        F.sum(\"AMOUNT\").alias(\"AMOUNT\")\n",
    "    )\n",
    ").show()"
   ]
  },
  {
   "cell_type": "markdown",
   "metadata": {},
   "source": [
    "* 어제 판매하지 않은 상품 목록"
   ]
  },
  {
   "cell_type": "code",
   "execution_count": 17,
   "metadata": {},
   "outputs": [
    {
     "data": {
      "text/plain": [
       "4"
      ]
     },
     "execution_count": 17,
     "metadata": {},
     "output_type": "execute_result"
    }
   ],
   "source": [
    "(\n",
    "    prod_df.join(trans_df, \"PRODUCT_ID\", \"leftanti\")\n",
    ").count()"
   ]
  },
  {
   "cell_type": "code",
   "execution_count": 19,
   "metadata": {},
   "outputs": [
    {
     "name": "stdout",
     "output_type": "stream",
     "text": [
      "+----+----+-----------+----------+--------+------+--------+--------+\n",
      "|DATE|TIME|CUSTOMER_ID|PRODUCT_ID|QUANTITY|AMOUNT|DATETIME|DISCOUNT|\n",
      "+----+----+-----------+----------+--------+------+--------+--------+\n",
      "+----+----+-----------+----------+--------+------+--------+--------+\n",
      "\n"
     ]
    }
   ],
   "source": [
    "trans_df.where(F.col(\"PRODUCT_ID\") == 20).show()"
   ]
  },
  {
   "cell_type": "markdown",
   "metadata": {},
   "source": [
    "* 판매실적 통계"
   ]
  },
  {
   "cell_type": "code",
   "execution_count": 27,
   "metadata": {},
   "outputs": [
    {
     "name": "stdout",
     "output_type": "stream",
     "text": [
      "+-----------+------------------+----------+----------+----------------------+\n",
      "|CUSTOMER_ID|avg(PRICE)        |max(PRICE)|min(PRICE)|sum(AMOUNT_BY_PRODUCT)|\n",
      "+-----------+------------------+----------+----------+----------------------+\n",
      "|51         |4973.745          |9721.89   |1305.04   |83312.11999999998     |\n",
      "|7          |4592.275          |8720.91   |3003.77   |50079.82              |\n",
      "|15         |4067.605555555556 |9933.3    |2531.15   |55853.28              |\n",
      "|54         |5975.045714285714 |8875.2    |2626.88   |36307.04000000001     |\n",
      "|11         |5729.09875        |8693.64   |2531.15   |37276.88              |\n",
      "|29         |5384.812222222222 |8486.42   |2531.15   |31389.32              |\n",
      "|69         |5150.442857142858 |7443.91   |2509.1    |26220.12              |\n",
      "|42         |2719.5399999999995|711.88    |3003.77   |30491.92              |\n",
      "|73         |5818.978571428571 |7314.55   |4171.55   |31892.579999999998    |\n",
      "|87         |4304.635          |7907.21   |1368.53   |52329.600000000006    |\n",
      "+-----------+------------------+----------+----------+----------------------+\n",
      "only showing top 10 rows\n",
      "\n"
     ]
    }
   ],
   "source": [
    "(\n",
    "    trans_df.join(prod_df, \"PRODUCT_ID\", \"left\")\n",
    "    .groupby(\"CUSTOMER_ID\", \"PRODUCT_NAME\")\n",
    "    .agg(\n",
    "        F.last(F.col(\"PRICE\")).alias(\"PRICE\"),\n",
    "        F.sum(F.col(\"AMOUNT\")).alias(\"AMOUNT_BY_PRODUCT\"),\n",
    "    )\n",
    "    .groupby(\"CUSTOMER_ID\")\n",
    "    .agg(\n",
    "        F.avg(\"PRICE\"),\n",
    "        F.max(\"PRICE\"),\n",
    "        F.min(\"PRICE\"),\n",
    "        F.sum(\"AMOUNT_BY_PRODUCT\")\n",
    "    )\n",
    ").show(10, False)"
   ]
  }
 ],
 "metadata": {
  "kernelspec": {
   "display_name": "Python 3",
   "language": "python",
   "name": "python3"
  },
  "language_info": {
   "codemirror_mode": {
    "name": "ipython",
    "version": 3
   },
   "file_extension": ".py",
   "mimetype": "text/x-python",
   "name": "python",
   "nbconvert_exporter": "python",
   "pygments_lexer": "ipython3",
   "version": "3.8.6"
  }
 },
 "nbformat": 4,
 "nbformat_minor": 4
}
