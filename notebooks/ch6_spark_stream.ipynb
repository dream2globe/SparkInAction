{
 "cells": [
  {
   "cell_type": "code",
   "execution_count": 1,
   "metadata": {},
   "outputs": [],
   "source": [
    "from pyspark.sql import SparkSession\n",
    "import pyspark.sql.functions as F\n",
    "import pyspark.sql.types as T\n",
    "\n",
    "spark = (\n",
    "    SparkSession\n",
    "    .builder\n",
    "    .master(\"yarn\")\n",
    "    .appName(\"Spark structured streaming example\")\n",
    "#     .config(\"spark.jars\", \"commons-pool2-2.9.0.jar)\n",
    "#     .config(\"spark.jars\", \"/home/spark/spark-3.0.1-bin-hadoop2.7/jars/spark-token-provider-kafka-0-10_2.12-3.0.1.jar\")    \n",
    "    .getOrCreate()\n",
    ")\n",
    "\n",
    "# commons-pool2-2.9.0.jar\n",
    "# spark-streaming_2.12-3.0.1.jar\n",
    "# spark-token-provider-kafka-0-10_2.12-3.0.1\n",
    "# spark-tags_2.12-3.0.1\n",
    "# spark-sql-kafka-0-10_2.12-3.0.1\n",
    "# spark-sql_2.12-3.0.1\n",
    "# spark-streaming-kafka-0-10_2.12-3.0.1"
   ]
  },
  {
   "cell_type": "code",
   "execution_count": 2,
   "metadata": {},
   "outputs": [],
   "source": [
    "json_schema = T.StructType([\n",
    "    T.StructField(\"name\", T.StringType()),\n",
    "    T.StructField(\"address\", T.StringType()),\n",
    "    T.StructField(\"created_at\", T.StringType())\n",
    "])"
   ]
  },
  {
   "cell_type": "code",
   "execution_count": 3,
   "metadata": {},
   "outputs": [],
   "source": [
    "df = (\n",
    "    spark \n",
    "    .readStream\n",
    "    .format(\"kafka\")\n",
    "#     .schema(json_schema)\n",
    "    .option(\"kafka.bootstrap.servers\", \"localhost:9092\") \n",
    "    .option(\"subscribe\", \"registered-user\") \n",
    "    .option(\"includeHeaders\", \"true\")    \n",
    "    .load()\n",
    "    .selectExpr(\"CAST(key AS STRING)\", \"CAST(value AS STRING)\", \"topic\", \"partition\", \"offset\", \"timestamp\", \"headers\")\n",
    ")"
   ]
  },
  {
   "cell_type": "code",
   "execution_count": 4,
   "metadata": {},
   "outputs": [],
   "source": [
    "ds = (\n",
    "    df.writeStream\n",
    "#     .outputMode(\"complete\")\n",
    "    .format(\"console\")\n",
    "    .start()\n",
    ")"
   ]
  },
  {
   "cell_type": "code",
   "execution_count": null,
   "metadata": {},
   "outputs": [],
   "source": [
    "ds.awaitTermination()"
   ]
  },
  {
   "cell_type": "code",
   "execution_count": null,
   "metadata": {},
   "outputs": [],
   "source": [
    "ds.stop()"
   ]
  }
 ],
 "metadata": {
  "kernelspec": {
   "display_name": "Python 3",
   "language": "python",
   "name": "python3"
  },
  "language_info": {
   "codemirror_mode": {
    "name": "ipython",
    "version": 3
   },
   "file_extension": ".py",
   "mimetype": "text/x-python",
   "name": "python",
   "nbconvert_exporter": "python",
   "pygments_lexer": "ipython3",
   "version": "3.8.6"
  }
 },
 "nbformat": 4,
 "nbformat_minor": 4
}
