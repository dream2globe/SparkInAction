{
 "cells": [
  {
   "cell_type": "markdown",
   "metadata": {},
   "source": [
    "# Spark container 실행 방법\n",
    "\n",
    "## 확인 사항\n",
    "* volume path(docker-compose.yml)\n",
    "    * mariadb\n",
    "    * jupyter lab\n",
    "* expose port(Dockerfile, docker-compose.yml)\n",
    "    * 이미 사용하고 있는 port는 아닌지 확인\n",
    "\n",
    "## docker-composer 실행 순서\n",
    "* docker-composer - Dockerfile - scripts/entrypoint.sh\n",
    "* 명령어\n",
    "    * docker-compose up --build\n",
    "    \n",
    "## 주의 \n",
    "* entrypoint.sh schema init 은 최소 1회만 실행 (최소 실행 후 주석처리)"
   ]
  },
  {
   "cell_type": "markdown",
   "metadata": {},
   "source": [
    "# Spark Session"
   ]
  },
  {
   "cell_type": "code",
   "execution_count": 1,
   "metadata": {},
   "outputs": [],
   "source": [
    "from pyspark.sql import SparkSession\n",
    "import pyspark.sql.functions as F\n",
    "from pyspark.sql import types as T\n",
    "\n",
    "spark = (\n",
    "    SparkSession\n",
    "    .builder\n",
    "    .appName(\"Last Chapter\")\n",
    "    .master(\"local[*]\")\n",
    "    .config(\"hive.metastore.uris\", \"thrift://0.0.0.0:9083\")\n",
    "    .enableHiveSupport()\n",
    "    .getOrCreate()\n",
    ")"
   ]
  },
  {
   "cell_type": "code",
   "execution_count": 2,
   "metadata": {},
   "outputs": [
    {
     "data": {
      "text/plain": [
       "[Database(name='default', description='Default Hive database', locationUri='file:/home/jovyan/work/spark-warehouse')]"
      ]
     },
     "execution_count": 2,
     "metadata": {},
     "output_type": "execute_result"
    }
   ],
   "source": [
    "spark.catalog.listDatabases()"
   ]
  },
  {
   "cell_type": "markdown",
   "metadata": {},
   "source": [
    "# Structured Dataframe API\n",
    "\n",
    "* ch04_data_transactions.txt\n",
    "    * 구매 날짜, 시간, 고객 ID, 상품 ID, 구매 수량, 구매 금액"
   ]
  },
  {
   "cell_type": "code",
   "execution_count": 3,
   "metadata": {},
   "outputs": [
    {
     "name": "stdout",
     "output_type": "stream",
     "text": [
      "2015-03-30#6:55 AM#51#68#1#9506.21\n",
      "2015-03-30#7:39 PM#99#86#5#4107.59\n",
      "2015-03-30#11:57 AM#79#58#7#2987.22\n",
      "2015-03-30#12:46 AM#51#50#6#7501.89\n",
      "2015-03-30#11:39 AM#86#24#5#8370.2\n",
      "2015-03-30#10:35 AM#63#19#5#1023.57\n",
      "2015-03-30#2:30 AM#23#77#7#5892.41\n",
      "2015-03-30#7:41 PM#49#58#4#9298.18\n",
      "2015-03-30#9:18 AM#97#86#8#9462.89\n",
      "2015-03-30#10:06 PM#94#26#4#4199.15\n"
     ]
    }
   ],
   "source": [
    "!head ../book-samples/ch04/ch04_data_transactions.txt "
   ]
  },
  {
   "cell_type": "code",
   "execution_count": 4,
   "metadata": {},
   "outputs": [],
   "source": [
    "transactions_schema = T.StructType([\n",
    "    T.StructField(\"DATE\", T.StringType(), True),\n",
    "    T.StructField(\"TIME\", T.StringType(), True),\n",
    "    T.StructField(\"CUSTOMER_ID\", T.StringType(), True),\n",
    "    T.StructField(\"PRODUCT_ID\", T.StringType(), True),\n",
    "    T.StructField(\"QUANTITY\", T.StringType(), True),\n",
    "    T.StructField(\"AMOUNT\", T.StringType(), True),\n",
    "])"
   ]
  },
  {
   "cell_type": "code",
   "execution_count": 5,
   "metadata": {},
   "outputs": [
    {
     "name": "stdout",
     "output_type": "stream",
     "text": [
      "the num of rows: 1000\n"
     ]
    }
   ],
   "source": [
    "trans_df = spark.read.csv(\n",
    "    \"../book-samples/ch04/ch04_data_transactions.txt\",\n",
    "    sep=\"#\",\n",
    "    schema=transactions_schema\n",
    ")\n",
    "\n",
    "trans_df = trans_df.withColumn(\"DATE\", F.to_date(F.col(\"DATE\"), \"yyyy-MM-dd\"))\n",
    "trans_df = trans_df.withColumn(\"DATETIME\", F.concat(F.col(\"DATE\"), F.lit(\" \"), F.col(\"TIME\")))\n",
    "trans_df = trans_df.withColumn(\"DATETIME\", F.to_timestamp(F.col(\"DATETIME\"), \"yyyy-MM-dd H:mm a\"))\n",
    "print(\"the num of rows:\", trans_df.count())"
   ]
  },
  {
   "cell_type": "code",
   "execution_count": 6,
   "metadata": {},
   "outputs": [
    {
     "name": "stdout",
     "output_type": "stream",
     "text": [
      "+----------+--------+-----------+----------+--------+-------+-------------------+\n",
      "|      DATE|    TIME|CUSTOMER_ID|PRODUCT_ID|QUANTITY| AMOUNT|           DATETIME|\n",
      "+----------+--------+-----------+----------+--------+-------+-------------------+\n",
      "|2015-03-30| 6:55 AM|         51|        68|       1|9506.21|2015-03-30 06:55:00|\n",
      "|2015-03-30| 7:39 PM|         99|        86|       5|4107.59|               null|\n",
      "|2015-03-30|11:57 AM|         79|        58|       7|2987.22|2015-03-30 11:57:00|\n",
      "|2015-03-30|12:46 AM|         51|        50|       6|7501.89|               null|\n",
      "|2015-03-30|11:39 AM|         86|        24|       5| 8370.2|2015-03-30 11:39:00|\n",
      "|2015-03-30|10:35 AM|         63|        19|       5|1023.57|2015-03-30 10:35:00|\n",
      "|2015-03-30| 2:30 AM|         23|        77|       7|5892.41|2015-03-30 02:30:00|\n",
      "|2015-03-30| 7:41 PM|         49|        58|       4|9298.18|               null|\n",
      "|2015-03-30| 9:18 AM|         97|        86|       8|9462.89|2015-03-30 09:18:00|\n",
      "|2015-03-30|10:06 PM|         94|        26|       4|4199.15|               null|\n",
      "|2015-03-30|10:57 AM|         91|        18|       1|3795.73|2015-03-30 10:57:00|\n",
      "|2015-03-30| 7:43 AM|         20|        86|      10|1477.35|2015-03-30 07:43:00|\n",
      "|2015-03-30| 5:58 PM|         38|        39|       6| 1090.0|               null|\n",
      "|2015-03-30| 1:08 PM|         46|         6|      10|1014.78|               null|\n",
      "|2015-03-30|12:18 AM|         56|        48|       9|8346.42|               null|\n",
      "|2015-03-30| 1:18 AM|         11|        58|       4| 364.59|2015-03-30 01:18:00|\n",
      "|2015-03-30| 3:01 AM|         59|         9|       5|5984.68|2015-03-30 03:01:00|\n",
      "|2015-03-30|11:44 AM|          8|        35|       6| 1859.2|2015-03-30 11:44:00|\n",
      "|2015-03-30|12:05 PM|         23|         8|       3|1527.04|2015-03-30 12:05:00|\n",
      "|2015-03-30| 4:10 AM|         85|        93|       9|3314.71|2015-03-30 04:10:00|\n",
      "+----------+--------+-----------+----------+--------+-------+-------------------+\n",
      "only showing top 20 rows\n",
      "\n"
     ]
    }
   ],
   "source": [
    "trans_df.show()"
   ]
  },
  {
   "cell_type": "markdown",
   "metadata": {},
   "source": [
    "* ch04_data_product.txt\n",
    "    * 구매 날짜, 시간, 고객 ID, 상품 ID, 구매 수량, 구매 금액"
   ]
  },
  {
   "cell_type": "code",
   "execution_count": 7,
   "metadata": {},
   "outputs": [
    {
     "name": "stdout",
     "output_type": "stream",
     "text": [
      "1#ROBITUSSIN PEAK COLD NIGHTTIME COLD PLUS FLU#9721.89#10\n",
      "2#Mattel Little Mommy Doctor Doll#6060.78#6\n",
      "3#Cute baby doll, battery#1808.79#2\n",
      "4#Bear doll#51.06#6\n",
      "5#LEGO Legends of Chima#849.36#6\n",
      "6#LEGO Castle#4777.51#10\n",
      "7#LEGO Mixels#8720.91#1\n",
      "8#LEGO Star Wars#7592.44#4\n",
      "9#LEGO Lord of the Rings#851.67#2\n",
      "10#LEGO The Hobbit#7314.55#9\n"
     ]
    }
   ],
   "source": [
    "!head ../book-samples/ch04/ch04_data_products.txt"
   ]
  },
  {
   "cell_type": "code",
   "execution_count": 55,
   "metadata": {},
   "outputs": [],
   "source": [
    "prod_schema = T.StructType([\n",
    "    T.StructField(\"PRODUCT_ID\", T.StringType(), True),\n",
    "    T.StructField(\"PRODUCT_NAME\", T.StringType(), True),\n",
    "    T.StructField(\"PRICE\", T.StringType(), True),\n",
    "    T.StructField(\"INDEX\", T.StringType(), True),\n",
    "])"
   ]
  },
  {
   "cell_type": "code",
   "execution_count": 57,
   "metadata": {},
   "outputs": [
    {
     "name": "stdout",
     "output_type": "stream",
     "text": [
      "+----------+--------------------+-------+-----+\n",
      "|PRODUCT_ID|        PRODUCT_NAME|  PRICE|INDEX|\n",
      "+----------+--------------------+-------+-----+\n",
      "|         1|ROBITUSSIN PEAK C...|9721.89|   10|\n",
      "|         2|Mattel Little Mom...|6060.78|    6|\n",
      "|         3|Cute baby doll, b...|1808.79|    2|\n",
      "|         4|           Bear doll|  51.06|    6|\n",
      "|         5|LEGO Legends of C...| 849.36|    6|\n",
      "|         6|         LEGO Castle|4777.51|   10|\n",
      "|         7|         LEGO Mixels|8720.91|    1|\n",
      "|         8|      LEGO Star Wars|7592.44|    4|\n",
      "|         9|LEGO Lord of the ...| 851.67|    2|\n",
      "|        10|     LEGO The Hobbit|7314.55|    9|\n",
      "|        11|      LEGO Minecraft|5646.81|    3|\n",
      "|        12|   LEGO Hero Factory| 6911.2|    1|\n",
      "|        13|   LEGO Architecture| 604.58|    5|\n",
      "|        14|        LEGO Technic|7423.48|    3|\n",
      "|        15|LEGO Storage & Ac...|3125.96|    2|\n",
      "|        16|        LEGO Classic| 9933.3|   10|\n",
      "|        17|   LEGO Galaxy Squad|5593.16|    4|\n",
      "|        18|     LEGO Mindstorms|6022.88|   10|\n",
      "|        19|    LEGO Minifigures|5775.99|    1|\n",
      "|        20|          LEGO Elves|4589.79|    4|\n",
      "|        21| LEGO Jurassic World|4330.68|    7|\n",
      "|        22| LEGO Speed Champion|8486.42|    2|\n",
      "|        23|       LEGO Bionicle|6878.18|   10|\n",
      "|        24|        LEGO Pirates|4150.34|    2|\n",
      "|        25|Barbie Shopping M...|  437.5|    9|\n",
      "+----------+--------------------+-------+-----+\n",
      "only showing top 25 rows\n",
      "\n"
     ]
    }
   ],
   "source": [
    "prod_df = spark.read.csv(\n",
    "    \"../book-samples/ch04/ch04_data_products.txt\",\n",
    "    sep=\"#\",\n",
    "    schema=prod_schema\n",
    ")\n",
    "\n",
    "prod_df.show(25)"
   ]
  },
  {
   "cell_type": "markdown",
   "metadata": {},
   "source": [
    "# 데이터 분석\n",
    "* 구매 횟수가 가장 많은 고객\n",
    "* 바비 놀이세트(ID 25) 를 2개 이상 구매한 경우 5% 할인\n",
    "* 사전을 다섯 권 이상 구매한 고객\n",
    "* 가장 많은 금액을 지출한 고객\n",
    "* 어제 판매한 상품 이름과 각 상품별 매출액 합계\n",
    "* 어제 판매하지 않은 상품 목록\n",
    "* 전일 판매 실적 통계: 고객별 평균, 최저 가격, 최고 가격, 구매 금액 합계"
   ]
  }
 ],
 "metadata": {
  "kernelspec": {
   "display_name": "Python 3",
   "language": "python",
   "name": "python3"
  },
  "language_info": {
   "codemirror_mode": {
    "name": "ipython",
    "version": 3
   },
   "file_extension": ".py",
   "mimetype": "text/x-python",
   "name": "python",
   "nbconvert_exporter": "python",
   "pygments_lexer": "ipython3",
   "version": "3.8.6"
  }
 },
 "nbformat": 4,
 "nbformat_minor": 4
}
