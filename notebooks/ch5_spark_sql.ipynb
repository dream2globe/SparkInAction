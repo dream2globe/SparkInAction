{
 "cells": [
  {
   "cell_type": "code",
   "execution_count": 1,
   "metadata": {},
   "outputs": [],
   "source": [
    "from pyspark.sql import SparkSession\n",
    "import pyspark.sql.functions as F\n",
    "from pyspark.sql import types as T\n",
    "\n",
    "spark = (\n",
    "    SparkSession\n",
    "    .builder\n",
    "    .appName(\"SparkHiveTest\")\n",
    "    .config(\"hive.metastore.uris\", \"thrift://localhost:9083\")\n",
    "    .config(\"spark.sql.warehouse.dir\", \"file:///home/jovyan/work/spark-warehouse\") # 폴더만 만들어지는 문제\n",
    "    .enableHiveSupport()\n",
    "    .getOrCreate()\n",
    ")"
   ]
  },
  {
   "cell_type": "markdown",
   "metadata": {},
   "source": [
    "# 5. Spark SQL\n",
    "## 5.1 DataFrame\n",
    "\n",
    "* DataFram을 생성하는 방법\n",
    "    * 기존 RDD를 변환\n",
    "    * SQL 쿼리를 실행\n",
    "    * 외부 데이터에서 로드\n",
    "    \n",
    "### 5.1.1 RDD에서 DataFrame 생성\n"
   ]
  },
  {
   "cell_type": "markdown",
   "metadata": {},
   "source": [
    "* RDD 사용"
   ]
  },
  {
   "cell_type": "code",
   "execution_count": 2,
   "metadata": {},
   "outputs": [
    {
     "data": {
      "text/plain": [
       "[['4',\n",
       "  '2013-11-11 18:21:10.903',\n",
       "  '17',\n",
       "  \"&lt;p&gt;The infinitive tense is commonly used for expressing rules especially in signs (of any kind, not just road signs).&lt;/p&gt;&lt;p&gt;For instance&lt;/p&gt;&lt;blockquote&gt;  &lt;p&gt;Non fumare&lt;br&gt;  Non calpestare il prato&lt;br&gt;  Tenere la destra&lt;/p&gt;&lt;/blockquote&gt;&lt;p&gt;The language &quot;trick&quot; behind this use of the infinitive form is the omission of the clause &lt;em&gt;Si prega di&lt;/em&gt; or equivalent, so the above sentences are read as&lt;/p&gt;&lt;blockquote&gt;  &lt;p&gt;&lt;em&gt;&lt;strong&gt;Si prega di&lt;/em&gt;&lt;/strong&gt; non fumare&lt;br&gt;  &lt;strong&gt;&lt;em&gt;Si prega di&lt;/em&gt;&lt;/strong&gt; non calpestare il prato&lt;br&gt;  &lt;strong&gt;&lt;em&gt;Si prega di&lt;/em&gt;&lt;/strong&gt; tenere la destra&lt;/p&gt;&lt;/blockquote&gt;&lt;p&gt;Such form is not used in everyday's spoken language, as it's a convention used for giving orders and stating rules in an impersonal and formal way.&lt;/p&gt;&lt;hr&gt;&lt;p&gt;That being said, there's an official use of the infinitive tense as imperative, which is the negative imperative.&lt;/p&gt;&lt;p&gt;In Italian the positive imperative form goes as follows&lt;/p&gt;&lt;blockquote&gt;  &lt;p&gt;Tieni la destra!&lt;br&gt;  Parla con lei!&lt;/p&gt;&lt;/blockquote&gt;&lt;p&gt;whereas the negative imperative is formed with &lt;strong&gt;&lt;em&gt;non + infinitive tense&lt;/em&gt;&lt;/strong&gt;, as in &lt;/p&gt;&lt;blockquote&gt;  &lt;p&gt;Non tenere la destra!&lt;br&gt;  Non parlare con lei!&lt;/p&gt;&lt;/blockquote&gt;&lt;hr&gt;&lt;p&gt;As discussed in the comments, it's also nice to notice the differences and the similarities with other Romance languages, such as Spanish and French.&lt;/p&gt;&lt;p&gt;Apparently French has the same identical construct as Italian for expressing formal impersonal orders, for instance&lt;/p&gt;&lt;blockquote&gt;  &lt;p&gt;Ne pas fumer&lt;br&gt;  &lt;em&gt;Non fumare&lt;/em&gt;&lt;/p&gt;&lt;/blockquote&gt;&lt;p&gt;which is again a shortening for&lt;/p&gt;&lt;blockquote&gt;  &lt;p&gt;Merci de ne pas fumer&lt;br&gt;  &lt;em&gt;Grazie di non fumare&lt;/em&gt; or more idiomatically &lt;em&gt;Si prega di non fumare&lt;/em&gt;&lt;/p&gt;&lt;/blockquote&gt;&lt;p&gt;On the other hand Spanish behaves differently and it doesn't have a special construct for impersonal orders, rather just using the formal imperative form, which is formed with the subjunctive&lt;/p&gt;&lt;blockquote&gt;  &lt;p&gt;No fume&lt;br&gt;  &lt;em&gt;Non fumare&lt;/em&gt;, but also &lt;em&gt;Non fumi&lt;/em&gt;&lt;/p&gt;&lt;/blockquote&gt;&lt;p&gt;or&lt;/p&gt;&lt;blockquote&gt;  &lt;p&gt;Reduzca la velocidad&lt;br&gt;  &lt;em&gt;Ridurre la velocità&lt;/em&gt;, but also &lt;em&gt;Riduca la velocità&lt;/em&gt;&lt;/p&gt;&lt;/blockquote&gt;\",\n",
       "  '23',\n",
       "  '2013-11-10 19:37:54.187',\n",
       "  'null',\n",
       "  '',\n",
       "  '',\n",
       "  'null',\n",
       "  'null',\n",
       "  '2',\n",
       "  '1165']]"
      ]
     },
     "execution_count": 2,
     "metadata": {},
     "output_type": "execute_result"
    }
   ],
   "source": [
    "itPostsRows = spark.sparkContext.textFile(\"../book-samples/ch05/italianPosts.csv\")\n",
    "itPostsSplit = itPostsRows.map(lambda line: line.split(\"~\"))\n",
    "itPostsSplit.take(1)"
   ]
  },
  {
   "cell_type": "code",
   "execution_count": 3,
   "metadata": {},
   "outputs": [],
   "source": [
    "itPostsRDD = itPostsSplit.map(lambda x: (x[0], x[1], x[2], x[3], x[4], x[5], x[6], x[7], x[8], x[9], x[10], x[11], x[12]))\n",
    "itPostsDFrame = itPostsRDD.toDF()"
   ]
  },
  {
   "cell_type": "code",
   "execution_count": 4,
   "metadata": {},
   "outputs": [
    {
     "name": "stdout",
     "output_type": "stream",
     "text": [
      "+---+--------------------+---+--------------------+---+--------------------+----+---+---+----+----+---+----+\n",
      "| _1|                  _2| _3|                  _4| _5|                  _6|  _7| _8| _9| _10| _11|_12| _13|\n",
      "+---+--------------------+---+--------------------+---+--------------------+----+---+---+----+----+---+----+\n",
      "|  4|2013-11-11 18:21:...| 17|&lt;p&gt;The infi...| 23|2013-11-10 19:37:...|null|   |   |null|null|  2|1165|\n",
      "|  2|2013-11-10 20:31:...| 17|&lt;p&gt;Il verbo...|  5|2013-11-10 19:58:...|null|   |   |null|null|  2|1167|\n",
      "|  0|2013-11-10 22:15:...| 70|&lt;p&gt;&lt;em&g...|  3|2013-11-10 22:15:...|null|   |   |null|null|  2|1169|\n",
      "|  2|2013-11-10 22:17:...| 17|&lt;p&gt;There's ...|  8|2013-11-10 22:17:...|null|   |   |null|null|  2|1170|\n",
      "|  1|2013-11-11 09:51:...| 63|&lt;p&gt;As other...|  3|2013-11-11 09:51:...|null|   |   |null|null|  2|1171|\n",
      "|  1|2013-11-12 23:57:...| 63|&lt;p&gt;The expr...|  1|2013-11-11 10:09:...|null|   |   |null|null|  2|1172|\n",
      "|  0|2013-11-11 10:58:...| 18|&lt;p&gt;Wow, wha...|  5|2013-11-11 10:58:...|null|   |   |null|null|  2|1174|\n",
      "|  3|2014-01-16 19:56:...| 71|&lt;p&gt;Both you...|  6|2013-11-11 11:57:...|null|   |   |null|null|  2|1177|\n",
      "|  0|2013-11-11 12:00:...| 12|&lt;blockquote&gt...|  1|2013-11-11 12:00:...|null|   |   |null|null|  2|1178|\n",
      "|  4|2013-11-11 19:54:...| 18|&lt;p&gt;Using th...|  5|2013-11-11 13:48:...|null|   |   |null|null|  2|1180|\n",
      "+---+--------------------+---+--------------------+---+--------------------+----+---+---+----+----+---+----+\n",
      "only showing top 10 rows\n",
      "\n"
     ]
    }
   ],
   "source": [
    "itPostsDFrame.where(F.col(\"_7\") == \"null\").show(10, truncate=True)  # null 이라는 문자"
   ]
  },
  {
   "cell_type": "markdown",
   "metadata": {},
   "source": [
    "* Pandas 사용"
   ]
  },
  {
   "cell_type": "code",
   "execution_count": 5,
   "metadata": {},
   "outputs": [
    {
     "name": "stdout",
     "output_type": "stream",
     "text": [
      "+---+--------------------+---+--------------------+---+--------------------+---+---+---+---+---+---+----+\n",
      "|  0|                   1|  2|                   3|  4|                   5|  6|  7|  8|  9| 10| 11|  12|\n",
      "+---+--------------------+---+--------------------+---+--------------------+---+---+---+---+---+---+----+\n",
      "|  4|2013-11-11 18:21:...| 17|&lt;p&gt;The infi...| 23|2013-11-10 19:37:...|nan|nan|nan|nan|nan|  2|1165|\n",
      "|  2|2013-11-10 20:31:...| 17|&lt;p&gt;Il verbo...|  5|2013-11-10 19:58:...|nan|nan|nan|nan|nan|  2|1167|\n",
      "|  0|2013-11-10 22:15:...| 70|&lt;p&gt;&lt;em&g...|  3|2013-11-10 22:15:...|nan|nan|nan|nan|nan|  2|1169|\n",
      "|  2|2013-11-10 22:17:...| 17|&lt;p&gt;There's ...|  8|2013-11-10 22:17:...|nan|nan|nan|nan|nan|  2|1170|\n",
      "|  1|2013-11-11 09:51:...| 63|&lt;p&gt;As other...|  3|2013-11-11 09:51:...|nan|nan|nan|nan|nan|  2|1171|\n",
      "|  1|2013-11-12 23:57:...| 63|&lt;p&gt;The expr...|  1|2013-11-11 10:09:...|nan|nan|nan|nan|nan|  2|1172|\n",
      "|  0|2013-11-11 10:58:...| 18|&lt;p&gt;Wow, wha...|  5|2013-11-11 10:58:...|nan|nan|nan|nan|nan|  2|1174|\n",
      "|  3|2014-01-16 19:56:...| 71|&lt;p&gt;Both you...|  6|2013-11-11 11:57:...|nan|nan|nan|nan|nan|  2|1177|\n",
      "|  0|2013-11-11 12:00:...| 12|&lt;blockquote&gt...|  1|2013-11-11 12:00:...|nan|nan|nan|nan|nan|  2|1178|\n",
      "|  4|2013-11-11 19:54:...| 18|&lt;p&gt;Using th...|  5|2013-11-11 13:48:...|nan|nan|nan|nan|nan|  2|1180|\n",
      "+---+--------------------+---+--------------------+---+--------------------+---+---+---+---+---+---+----+\n",
      "only showing top 10 rows\n",
      "\n"
     ]
    }
   ],
   "source": [
    "import pandas as pd\n",
    "\n",
    "it_posts_pd = pd.read_csv(\"../book-samples/ch05/italianPosts.csv\", delimiter=\"~\", header=None)\n",
    "df = spark.createDataFrame(it_posts_pd.astype(str))\n",
    "df.where(F.col(\"6\") == \"nan\").show(10, truncate=True)  # nan 이라는 문자가 채워짐에 주의"
   ]
  },
  {
   "cell_type": "markdown",
   "metadata": {},
   "source": [
    "#### 5.1.1.4 케이스 클래스를 사용해 RDD를 DataFrame으로 변환"
   ]
  },
  {
   "cell_type": "code",
   "execution_count": 6,
   "metadata": {},
   "outputs": [],
   "source": [
    "from pyspark.sql import Row\n",
    "from datetime import datetime\n",
    "\n",
    "def toIntSafe(inval):\n",
    "  try:\n",
    "    return int(inval)\n",
    "  except ValueError:\n",
    "    return None\n",
    "\n",
    "def toTimeSafe(inval):\n",
    "  try:\n",
    "    return datetime.strptime(inval, \"%Y-%m-%d %H:%M:%S.%f\")\n",
    "  except ValueError:\n",
    "    return None\n",
    "\n",
    "def toLongSafe(inval):\n",
    "  try:\n",
    "    return int(inval)\n",
    "  except ValueError:\n",
    "    return None\n",
    "\n",
    "def stringToPost(row):\n",
    "  r = row.split(\"~\")\n",
    "  return Row(toIntSafe(r[0]), toTimeSafe(r[1]), toIntSafe(r[2]), r[3], toIntSafe(r[4]), toTimeSafe(r[5]), toIntSafe(r[6]),\n",
    "             toIntSafe(r[7]), r[8], toIntSafe(r[9]), toLongSafe(r[10]), toLongSafe(r[11]), int(r[12]))\n",
    "\n",
    "rowRDD = itPostsRows.map(lambda x: stringToPost(x))  # 불편해서 안쓰겠음\n",
    "# rowRDD.toDF() # 안됨"
   ]
  },
  {
   "cell_type": "markdown",
   "metadata": {},
   "source": [
    "#### 5.1.1.5 스키마를 지정해 RDD를 DataFrame으로 변환"
   ]
  },
  {
   "cell_type": "code",
   "execution_count": 7,
   "metadata": {},
   "outputs": [],
   "source": [
    "from pyspark.sql.types import *\n",
    "\n",
    "postSchema = StructType([\n",
    "  StructField(\"commentCount\", IntegerType(), True),\n",
    "  StructField(\"lastActivityDate\", TimestampType(), True),\n",
    "  StructField(\"ownerUserId\", LongType(), True),\n",
    "  StructField(\"body\", StringType(), True),\n",
    "  StructField(\"score\", IntegerType(), True),\n",
    "  StructField(\"creationDate\", TimestampType(), True),\n",
    "  StructField(\"viewCount\", IntegerType(), True),\n",
    "  StructField(\"title\", StringType(), True),\n",
    "  StructField(\"tags\", StringType(), True),\n",
    "  StructField(\"answerCount\", IntegerType(), True),\n",
    "  StructField(\"acceptedAnswerId\", LongType(), True),\n",
    "  StructField(\"postTypeId\", LongType(), True),\n",
    "  StructField(\"id\", LongType(), False)\n",
    "  ])"
   ]
  },
  {
   "cell_type": "code",
   "execution_count": 8,
   "metadata": {},
   "outputs": [
    {
     "name": "stdout",
     "output_type": "stream",
     "text": [
      "root\n",
      " |-- commentCount: integer (nullable = true)\n",
      " |-- lastActivityDate: timestamp (nullable = true)\n",
      " |-- ownerUserId: long (nullable = true)\n",
      " |-- body: string (nullable = true)\n",
      " |-- score: integer (nullable = true)\n",
      " |-- creationDate: timestamp (nullable = true)\n",
      " |-- viewCount: integer (nullable = true)\n",
      " |-- title: string (nullable = true)\n",
      " |-- tags: string (nullable = true)\n",
      " |-- answerCount: integer (nullable = true)\n",
      " |-- acceptedAnswerId: long (nullable = true)\n",
      " |-- postTypeId: long (nullable = true)\n",
      " |-- id: long (nullable = false)\n",
      "\n"
     ]
    }
   ],
   "source": [
    "rowRDD = itPostsRows.map(lambda x: stringToPost(x))\n",
    "itPostsDFStruct = spark.createDataFrame(rowRDD, postSchema)\n",
    "itPostsDFStruct.printSchema()"
   ]
  },
  {
   "cell_type": "markdown",
   "metadata": {},
   "source": [
    "#### 5.1.1.6 스키마 정보 가져오기"
   ]
  },
  {
   "cell_type": "code",
   "execution_count": 9,
   "metadata": {},
   "outputs": [
    {
     "name": "stdout",
     "output_type": "stream",
     "text": [
      "root\n",
      " |-- commentCount: integer (nullable = true)\n",
      " |-- lastActivityDate: timestamp (nullable = true)\n",
      " |-- ownerUserId: long (nullable = true)\n",
      " |-- body: string (nullable = true)\n",
      " |-- score: integer (nullable = true)\n",
      " |-- creationDate: timestamp (nullable = true)\n",
      " |-- viewCount: integer (nullable = true)\n",
      " |-- title: string (nullable = true)\n",
      " |-- tags: string (nullable = true)\n",
      " |-- answerCount: integer (nullable = true)\n",
      " |-- acceptedAnswerId: long (nullable = true)\n",
      " |-- postTypeId: long (nullable = true)\n",
      " |-- id: long (nullable = false)\n",
      "\n"
     ]
    }
   ],
   "source": [
    "itPostsDFStruct.printSchema()"
   ]
  },
  {
   "cell_type": "code",
   "execution_count": 10,
   "metadata": {},
   "outputs": [
    {
     "data": {
      "text/plain": [
       "[('commentCount', 'int'),\n",
       " ('lastActivityDate', 'timestamp'),\n",
       " ('ownerUserId', 'bigint'),\n",
       " ('body', 'string'),\n",
       " ('score', 'int'),\n",
       " ('creationDate', 'timestamp'),\n",
       " ('viewCount', 'int'),\n",
       " ('title', 'string'),\n",
       " ('tags', 'string'),\n",
       " ('answerCount', 'int'),\n",
       " ('acceptedAnswerId', 'bigint'),\n",
       " ('postTypeId', 'bigint'),\n",
       " ('id', 'bigint')]"
      ]
     },
     "execution_count": 10,
     "metadata": {},
     "output_type": "execute_result"
    }
   ],
   "source": [
    "itPostsDFStruct.dtypes"
   ]
  },
  {
   "cell_type": "markdown",
   "metadata": {},
   "source": [
    "### 5.1.2 기본 DataFrame API"
   ]
  },
  {
   "cell_type": "code",
   "execution_count": 11,
   "metadata": {},
   "outputs": [],
   "source": [
    "posts_pd = pd.read_csv(\"../book-samples/ch05/italianPosts.csv\", delimiter=\"~\")\n",
    "posts_pd.columns = [\"commentCount\", \"lastActivityDate\", \"ownerUserId\", \"body\", \"score\", \"creationDate\", \"viewCount\", \"title\", \"tags\", \"answerCount\", \"acceptedAnswerId\", \"postTypeId\", \"id\"]\n",
    "posts_df = spark.createDataFrame(posts_pd.astype(str))"
   ]
  },
  {
   "cell_type": "code",
   "execution_count": 12,
   "metadata": {},
   "outputs": [
    {
     "data": {
      "text/plain": [
       "Row(commentCount='5', lastActivityDate='2013-11-10 20:31:00.177', ownerUserId='12', body=\"&lt;p&gt;Come credo sia conosciuto da tutti quelli che usano viaggiare con l'automobile, molti italiani hanno uno strano rapporto con gli abbaglianti; alcuni li amano così tanto che preferiscono mantenerli sempre accesi, altri invece li usano per segnalare, se non addirittura per comunicare informazioni di vario genere, dalla presenza di autovelox alla protesta per presunte violazioni del codice della strada.&lt;/p&gt;&lt;p&gt;Al di lá delle considerazioni e dei commenti circa queste abitudini, mi piacerebbe sapere se il verbo &quot;sfanagliare&quot; è normalmente usato, e compreso, in tutte le regioni italiane o se, magari, ci sono altri verbi in uso, purchè simpatici come quello.&lt;/p&gt;&lt;p&gt;Laddove qualcuno non avesse compreso l'uso del aforementioned verbo, ecco un esempio:&lt;/p&gt;&lt;blockquote&gt;  &lt;p&gt;&quot;Ehi!&quot; - dice il marito a sua moglie - &quot;Quello li mi sta sfanagliando, st***o!&quot;&lt;/p&gt;    &lt;p&gt;E la moglie, &quot;Caro, rallenta; magari più avanti c'è un autovelox, cribbio!&quot;&lt;/p&gt;&lt;/blockquote&gt;\", score='1', creationDate='2013-11-10 19:44:53.797', viewCount='61.0', title='Cosa sapreste dirmi della diffusione del verbo &quot;sfanagliare&quot; nelle diverse regioni italiane?', tags='&lt;word-choice&gt;', answerCount='1.0', acceptedAnswerId='nan', postTypeId='1', id='1166')"
      ]
     },
     "execution_count": 12,
     "metadata": {},
     "output_type": "execute_result"
    }
   ],
   "source": [
    "posts_df.head()"
   ]
  },
  {
   "cell_type": "code",
   "execution_count": 13,
   "metadata": {},
   "outputs": [
    {
     "data": {
      "text/plain": [
       "46"
      ]
     },
     "execution_count": 13,
     "metadata": {},
     "output_type": "execute_result"
    }
   ],
   "source": [
    "posts_df.where(F.col(\"body\").contains(\"Italiano\")).count()"
   ]
  },
  {
   "cell_type": "code",
   "execution_count": 14,
   "metadata": {},
   "outputs": [
    {
     "data": {
      "text/plain": [
       "0"
      ]
     },
     "execution_count": 14,
     "metadata": {},
     "output_type": "execute_result"
    }
   ],
   "source": [
    "# 필터링\n",
    "(\n",
    "    posts_df\n",
    "    .where((F.col(\"postTypeId\") == 1) & (F.col(\"acceptedAnswerId\").isNull())).count()\n",
    ")"
   ]
  },
  {
   "cell_type": "code",
   "execution_count": 15,
   "metadata": {},
   "outputs": [
    {
     "name": "stdout",
     "output_type": "stream",
     "text": [
      "+------------+--------------------+-----------+--------------------+-----+--------------------+---------+--------------------+--------------------+-----------+----------------+----------+----+\n",
      "|commentCount|    lastActivityDate|ownerUserId|                body|score|        creationDate|viewCount|               title|                tags|answerCount|acceptedAnswerId|postTypeId|  id|\n",
      "+------------+--------------------+-----------+--------------------+-----+--------------------+---------+--------------------+--------------------+-----------+----------------+----------+----+\n",
      "|           5|2013-11-10 20:31:...|         12|&lt;p&gt;Come cre...|    1|2013-11-10 19:44:...|     61.0|Cosa sapreste dir...| &lt;word-choice&gt;|        1.0|             nan|         1|1166|\n",
      "|           1|2014-07-25 13:15:...|        154|&lt;p&gt;As part ...|   11|2013-11-10 22:03:...|    187.0|Ironic constructi...|&lt;english-compa...|        4.0|          1170.0|         1|1168|\n",
      "|           9|2014-01-05 11:13:...|         63|&lt;p&gt;When I w...|    5|2013-11-11 10:28:...|    122.0|Is &quot;scancell...|&lt;usage&gt;&lt;...|        3.0|          1181.0|         1|1173|\n",
      "|           1|2014-01-16 19:56:...|         63|&lt;p&gt;Suppose ...|    4|2013-11-11 11:31:...|    114.0|How should I tran...|&lt;usage&gt;&lt;...|        2.0|          1177.0|         1|1175|\n",
      "|           0|2013-11-11 14:36:...|         63|&lt;p&gt;Except w...|    3|2013-11-11 11:39:...|     58.0|Using a comma bet...|&lt;usage&gt;&lt;...|        2.0|          1182.0|         1|1176|\n",
      "|           0|2013-11-12 11:24:...|         63|&lt;p&gt;Comparin...|    3|2013-11-11 12:58:...|     60.0|Using the conditi...|&lt;usage&gt;&lt;...|        2.0|          1180.0|         1|1179|\n",
      "|           2|2013-11-14 09:56:...|         22|&lt;p&gt;Many peo...|    6|2013-11-11 14:43:...|    321.0|Can Dante Alighie...|&lt;history&gt;&l...|        1.0|          1263.0|         1|1183|\n",
      "|           2|2013-11-11 23:23:...|        159|&lt;p&gt;Sono un'...|    7|2013-11-11 18:19:...|    138.0|origine dell'espr...|&lt;idioms&gt;&lt...|        2.0|          1185.0|         1|1184|\n",
      "|           2|2014-08-19 15:39:...|         12|&lt;p&gt;Quando s...|    4|2013-11-11 18:52:...|    149.0|Sapreste dirmi pe...|&lt;idioms&gt;&lt...|        2.0|             nan|         1|1187|\n",
      "|           0|2013-11-11 21:44:...|         12|&lt;p&gt;Why do I...|    8|2013-11-11 20:13:...|    387.0|Why do Italians r...|     &lt;grammar&gt;|        2.0|             nan|         1|1189|\n",
      "+------------+--------------------+-----------+--------------------+-----+--------------------+---------+--------------------+--------------------+-----------+----------------+----------+----+\n",
      "\n"
     ]
    }
   ],
   "source": [
    "# 상위 10\n",
    "firstTenQs = (\n",
    "    posts_df\n",
    "    .where(F.col(\"postTypeId\") == 1).limit(10)\n",
    ")\n",
    "\n",
    "firstTenQs.show()"
   ]
  },
  {
   "cell_type": "code",
   "execution_count": 16,
   "metadata": {},
   "outputs": [],
   "source": [
    "# 컬림 추가 및 이름 변경\n",
    "firstTenQsRn = firstTenQs.withColumnRenamed(\"ownerUserId\", \"owner\")"
   ]
  },
  {
   "cell_type": "code",
   "execution_count": 17,
   "metadata": {},
   "outputs": [
    {
     "name": "stdout",
     "output_type": "stream",
     "text": [
      "+------------+--------------------+-----------+--------------------+-----+--------------------+---------+--------------------+--------------------+-----------+----------------+----------+----+-------------------+\n",
      "|commentCount|    lastActivityDate|ownerUserId|                body|score|        creationDate|viewCount|               title|                tags|answerCount|acceptedAnswerId|postTypeId|  id|              ratio|\n",
      "+------------+--------------------+-----------+--------------------+-----+--------------------+---------+--------------------+--------------------+-----------+----------------+----------+----+-------------------+\n",
      "|           1|2014-07-25 13:15:...|        154|&lt;p&gt;As part ...|   11|2013-11-10 22:03:...|    187.0|Ironic constructi...|&lt;english-compa...|        4.0|          1170.0|         1|1168|               17.0|\n",
      "|           9|2014-01-05 11:13:...|         63|&lt;p&gt;When I w...|    5|2013-11-11 10:28:...|    122.0|Is &quot;scancell...|&lt;usage&gt;&lt;...|        3.0|          1181.0|         1|1173|               24.4|\n",
      "|           1|2014-01-16 19:56:...|         63|&lt;p&gt;Suppose ...|    4|2013-11-11 11:31:...|    114.0|How should I tran...|&lt;usage&gt;&lt;...|        2.0|          1177.0|         1|1175|               28.5|\n",
      "|           0|2013-11-11 14:36:...|         63|&lt;p&gt;Except w...|    3|2013-11-11 11:39:...|     58.0|Using a comma bet...|&lt;usage&gt;&lt;...|        2.0|          1182.0|         1|1176| 19.333333333333332|\n",
      "|           0|2013-11-12 11:24:...|         63|&lt;p&gt;Comparin...|    3|2013-11-11 12:58:...|     60.0|Using the conditi...|&lt;usage&gt;&lt;...|        2.0|          1180.0|         1|1179|               20.0|\n",
      "|           2|2013-11-11 23:23:...|        159|&lt;p&gt;Sono un'...|    7|2013-11-11 18:19:...|    138.0|origine dell'espr...|&lt;idioms&gt;&lt...|        2.0|          1185.0|         1|1184| 19.714285714285715|\n",
      "|           5|2013-11-21 14:04:...|          8|&lt;p&gt;The use ...|   13|2013-11-11 21:01:...|    142.0|Usage of preposit...|&lt;prepositions&...|        2.0|          1212.0|         1|1192| 10.923076923076923|\n",
      "|           0|2013-11-12 09:26:...|         17|&lt;p&gt;When wri...|    5|2013-11-11 21:01:...|     70.0|What's the correc...|&lt;punctuation&g...|        4.0|          1195.0|         1|1193|               14.0|\n",
      "|           1|2013-11-24 09:35:...|         12|&lt;p&gt;Are &quo...|    8|2013-11-11 21:44:...|    135.0|Are &quot;qui&quo...|     &lt;grammar&gt;|        2.0|             nan|         1|1197|             16.875|\n",
      "|           0|2013-11-12 10:32:...|         63|&lt;p&gt;When wri...|    1|2013-11-12 09:31:...|     34.0|Period after abbr...|&lt;usage&gt;&lt;...|        1.0|          1202.0|         1|1201|               34.0|\n",
      "|           1|2013-11-12 12:53:...|         99|&lt;p&gt;I can't ...|   -3|2013-11-12 10:57:...|     68.0|Past participle o...|&lt;grammar&gt;&l...|        3.0|          1216.0|         1|1203|-22.666666666666668|\n",
      "|           4|2014-09-09 08:54:...|         63|&lt;p&gt;Some wor...|    4|2013-11-12 11:03:...|     80.0|When is the lette...|&lt;nouns&gt;&lt;...|        2.0|          1207.0|         1|1205|               20.0|\n",
      "|           1|2013-11-13 18:45:...|         12|&lt;p&gt;Sapreste...|    4|2013-11-12 13:10:...|     82.0|Quali sono gli er...|     &lt;grammar&gt;|        2.0|             nan|         1|1217|               20.5|\n",
      "|           6|2014-04-09 18:02:...|         63|&lt;p&gt;In Lomba...|    5|2013-11-12 13:12:...|    100.0|Is &quot;essere d...|&lt;usage&gt;&lt;...|        4.0|          1226.0|         1|1218|               20.0|\n",
      "|           3|2014-09-11 14:37:...|         63|&lt;p&gt;The plur...|    5|2013-11-12 13:34:...|     59.0|Why is the plural...|&lt;plural&gt;&lt...|        1.0|          1227.0|         1|1221|               11.8|\n",
      "|           1|2013-11-12 13:49:...|         63|&lt;p&gt;I rememb...|    6|2013-11-12 13:38:...|     53.0|Can &quot;sciò&qu...|&lt;usage&gt;&lt;...|        1.0|          1223.0|         1|1222|  8.833333333333334|\n",
      "|           2|2014-08-14 17:11:...|         99|&lt;p&gt;Is it ma...|    7|2013-11-12 14:11:...|    163.0|Usage of accented...|&lt;word-choice&g...|        2.0|          1228.0|         1|1224| 23.285714285714285|\n",
      "|           2|2013-11-14 11:50:...|         18|&lt;p&gt;Where do...|    5|2013-11-12 14:49:...|    123.0|Etymology of &quo...|&lt;idioms&gt;&lt...|        1.0|          1230.0|         1|1229|               24.6|\n",
      "|           0|2013-11-12 18:50:...|         53|&lt;p&gt;Do all I...|    4|2013-11-12 15:38:...|     62.0|Do adjectives alw...|&lt;adjectives&gt...|        2.0|          1234.0|         1|1231|               15.5|\n",
      "|           5|2014-04-26 17:30:...|        132|&lt;p&gt;In Itali...|    7|2013-11-12 20:01:...|    230.0|&quot;Darsi del t...|&lt;usage&gt;&lt;...|        4.0|             nan|         1|1238| 32.857142857142854|\n",
      "+------------+--------------------+-----------+--------------------+-----+--------------------+---------+--------------------+--------------------+-----------+----------------+----------+----+-------------------+\n",
      "only showing top 20 rows\n",
      "\n"
     ]
    }
   ],
   "source": [
    "(\n",
    "    posts_df.where(F.col(\"postTypeId\") == 1)\n",
    "    .withColumn(\"ratio\", F.col(\"viewCount\") / F.col(\"score\"))\n",
    "    .where(F.col(\"ratio\") < 35).show()\n",
    ")"
   ]
  },
  {
   "cell_type": "code",
   "execution_count": 18,
   "metadata": {},
   "outputs": [
    {
     "name": "stdout",
     "output_type": "stream",
     "text": [
      "+------------+--------------------+-----------+--------------------+-----+--------------------+---------+--------------------+--------------------+-----------+----------------+----------+----+\n",
      "|commentCount|    lastActivityDate|ownerUserId|                body|score|        creationDate|viewCount|               title|                tags|answerCount|acceptedAnswerId|postTypeId|  id|\n",
      "+------------+--------------------+-----------+--------------------+-----+--------------------+---------+--------------------+--------------------+-----------+----------------+----------+----+\n",
      "|           2|2014-09-13 22:25:...|        707|&lt;p&gt;Ho osser...|    3|2014-09-12 09:44:...|    102.0|Perché a volte si...|&lt;orthography&g...|        1.0|          2344.0|         1|2343|\n",
      "|           3|2014-09-13 13:40:...|        193|&lt;p&gt;Due to t...|    1|2014-09-11 01:16:...|      nan|                 nan|                 nan|        nan|             nan|         2|2337|\n",
      "|           9|2014-09-13 13:40:...|        193|&lt;p&gt;I would ...|    4|2014-09-09 12:34:...|     88.0|Essential list of...|&lt;vocabulary&gt...|        1.0|             nan|         1|2330|\n",
      "|           0|2014-09-13 13:29:...|        707|&lt;p&gt;So che l...|    3|2014-09-13 08:55:...|     47.0|Perché si chiama ...|   &lt;etymology&gt;|        1.0|             nan|         1|2345|\n",
      "|           1|2014-09-13 13:29:...|         37|&lt;p&gt;Qui bast...|    4|2014-09-13 13:10:...|      nan|                 nan|                 nan|        nan|             nan|         2|2347|\n",
      "|           0|2014-09-13 12:43:...|        193|&lt;p&gt;Ho letto...|    5|2014-09-13 12:43:...|     21.0|Verbo impersonale...|&lt;grammar&gt;&l...|        0.0|             nan|         1|2346|\n",
      "|           0|2014-09-12 10:55:...|          8|&lt;p&gt;Wikipedi...|   10|2013-11-20 16:42:...|    145.0|Plural form of &q...|&lt;orthography&g...|        5.0|          1336.0|         1|1321|\n",
      "|           8|2014-09-12 10:55:...|         12|&lt;p&gt;Perché '...|    0|2014-02-15 14:25:...|    144.0|Perché 'di per sè...|&lt;orthography&g...|        3.0|             nan|         1|1696|\n",
      "|           2|2014-09-12 09:52:...|         37|&lt;p&gt;Prima di...|    5|2014-09-12 09:52:...|      nan|                 nan|                 nan|        nan|             nan|         2|2344|\n",
      "|           1|2014-09-12 07:32:...|        523|&lt;p&gt;After li...|    2|2014-09-11 17:57:...|     40.0|“Che t'aggia di'”...|&lt;word-meaning&...|        1.0|          2342.0|         1|2341|\n",
      "+------------+--------------------+-----------+--------------------+-----+--------------------+---------+--------------------+--------------------+-----------+----------------+----------+----+\n",
      "only showing top 10 rows\n",
      "\n"
     ]
    }
   ],
   "source": [
    "# 정렬\n",
    "posts_df.sort(F.desc(\"lastActivityDate\")).show(10)"
   ]
  },
  {
   "cell_type": "markdown",
   "metadata": {},
   "source": [
    "### 5.1.3 SQL함수로 데이터에 연산 수행\n",
    "#### 5.1.3.1 내장 스칼라 함수와 내장 집계 함수\n",
    "\n",
    "* abs, hypot, log, cbrt\n",
    "* length, trim, concat\n",
    "* year, date_add\n",
    "* min, max, count, avg, sum 등"
   ]
  },
  {
   "cell_type": "code",
   "execution_count": 19,
   "metadata": {},
   "outputs": [
    {
     "data": {
      "text/plain": [
       "['commentCount',\n",
       " 'lastActivityDate',\n",
       " 'ownerUserId',\n",
       " 'body',\n",
       " 'score',\n",
       " 'creationDate',\n",
       " 'viewCount',\n",
       " 'title',\n",
       " 'tags',\n",
       " 'answerCount',\n",
       " 'acceptedAnswerId',\n",
       " 'postTypeId',\n",
       " 'id',\n",
       " 'activePeriod']"
      ]
     },
     "execution_count": 19,
     "metadata": {},
     "output_type": "execute_result"
    }
   ],
   "source": [
    "# 가장 오랜시간 논의한 질문\n",
    "active_period = (\n",
    "    posts_df\n",
    "    .filter(posts_df.postTypeId == 1)\n",
    "    .withColumn(\"activePeriod\", F.datediff(posts_df.lastActivityDate, posts_df.creationDate))\n",
    "    .orderBy(F.desc(\"activePeriod\"))\n",
    ")\n",
    "\n",
    "active_period.columns"
   ]
  },
  {
   "cell_type": "code",
   "execution_count": 20,
   "metadata": {},
   "outputs": [
    {
     "data": {
      "text/plain": [
       "'<p>The plural of <em>braccio</em> is <em>braccia</em>, and the plural of <em>avambraccio</em> is <em>avambracci</em>.</p><p>Why are the plural of those words so different, if they both are referring to parts of the human body, and <em>avambraccio</em> derives from <em>braccio</em>?</p>'"
      ]
     },
     "execution_count": 20,
     "metadata": {},
     "output_type": "execute_result"
    }
   ],
   "source": [
    "# body 컬럼을 출력\n",
    "active_period.head().body.replace(\"&lt;\",\"<\").replace(\"&gt;\",\">\")"
   ]
  },
  {
   "cell_type": "code",
   "execution_count": 21,
   "metadata": {},
   "outputs": [
    {
     "name": "stdout",
     "output_type": "stream",
     "text": [
      "+-----------------+---+----+\n",
      "|              AVG|MAX| CNT|\n",
      "+-----------------+---+----+\n",
      "|4.144444444444445|  9|1260|\n",
      "+-----------------+---+----+\n",
      "\n"
     ]
    }
   ],
   "source": [
    "posts_df.select(F.avg(\"score\").alias(\"AVG\"), F.max(\"score\").alias(\"MAX\"), F.count(\"score\").alias(\"CNT\")).show()"
   ]
  },
  {
   "cell_type": "markdown",
   "metadata": {},
   "source": [
    "#### 5.1.3.2 윈도우 함수\n",
    "\n",
    "분석 함수들\n",
    "* first(column), last(column), \n",
    "* lag(column, offset, [default]), lead(column, offset, [default])\n",
    "* ntile(n): 프레임에 포함된 로우를 구룹 n개로 분할하고, 현재 로우가 속한 그룹의 인덱스를 반환\n",
    "* cume_dist: 프레임에 포함된 로우 중에서 현재 처리하고 있는 로우의 값보다 작거나 같은 다른 로우들이 프레임에서 차지하는 비율\n",
    "* rank, desnse_rank\n",
    "* precent_rank\n",
    "* row_number"
   ]
  },
  {
   "cell_type": "markdown",
   "metadata": {},
   "source": [
    "윈도우 사양\n",
    "* partitionBy\n",
    "* orderBy\n",
    "* rowsBetween(from, to): 현재 처리하는 로우는 0, 직전 -1, 직후 1로 간주"
   ]
  },
  {
   "cell_type": "code",
   "execution_count": 22,
   "metadata": {},
   "outputs": [
    {
     "name": "stdout",
     "output_type": "stream",
     "text": [
      "+-----------+----------------+-----+----------+-----+\n",
      "|ownerUserId|acceptedAnswerId|score|maxPerUser|toMax|\n",
      "+-----------+----------------+-----+----------+-----+\n",
      "|        124|            88.0|    4|         4|  0.0|\n",
      "|        591|             nan|    3|         4|  1.0|\n",
      "|        591|          2336.0|    4|         4|  0.0|\n",
      "|        591|          2158.0|    2|         4|  2.0|\n",
      "|        232|          2185.0|    6|         6|  0.0|\n",
      "|        448|             nan|    3|         3|  0.0|\n",
      "|        132|          1235.0|   14|         7| -7.0|\n",
      "|        132|             nan|    7|         7|  0.0|\n",
      "|        132|          1348.0|    7|         7|  0.0|\n",
      "|        154|          1170.0|   11|        11|  0.0|\n",
      "+-----------+----------------+-----+----------+-----+\n",
      "only showing top 10 rows\n",
      "\n"
     ]
    }
   ],
   "source": [
    "# 사용자별 최고 점수와 현재 점수의 차이 계산\n",
    "\n",
    "from pyspark.sql import Window\n",
    "\n",
    "ownerUserIdPartition = Window.partitionBy(\"ownerUserId\")\n",
    "\n",
    "(\n",
    "    posts_df\n",
    "    .where(F.col(\"postTypeId\") == 1)\n",
    "    .select(\n",
    "        F.col(\"ownerUserId\"),\n",
    "        F.col(\"acceptedAnswerId\"),\n",
    "        F.col(\"score\"),\n",
    "        (F.max(\"score\").over(ownerUserIdPartition)).alias(\"maxPerUser\"))\n",
    "    .withColumn(\"toMax\", F.col(\"maxPerUser\") - F.col(\"score\"))\n",
    "    .show(10)\n",
    ")"
   ]
  },
  {
   "cell_type": "code",
   "execution_count": 23,
   "metadata": {},
   "outputs": [
    {
     "name": "stdout",
     "output_type": "stream",
     "text": [
      "+-----------+----+-----------------------+----+----+\n",
      "|ownerUserId|id  |creationDate           |prev|next|\n",
      "+-----------+----+-----------------------+----+----+\n",
      "|124        |86  |2013-11-07 17:43:30.977|null|null|\n",
      "|591        |2147|2014-08-06 13:25:56.72 |null|2317|\n",
      "|591        |2317|2014-09-05 15:09:51.65 |2147|2331|\n",
      "|591        |2331|2014-09-10 02:16:31.523|2317|null|\n",
      "|232        |2184|2014-08-13 12:31:34.313|null|null|\n",
      "|448        |2020|2014-06-12 16:10:33.177|null|null|\n",
      "|132        |1225|2013-11-12 14:14:50.85 |null|1238|\n",
      "|132        |1238|2013-11-12 20:01:40.093|1225|1265|\n",
      "|132        |1265|2013-11-14 15:44:50.99 |1238|null|\n",
      "|154        |1168|2013-11-10 22:03:41.027|null|null|\n",
      "+-----------+----+-----------------------+----+----+\n",
      "only showing top 10 rows\n",
      "\n"
     ]
    }
   ],
   "source": [
    "# 질문의 생성 날짜를 기준으로 바로 전 질문과 바\n",
    "\n",
    "user_ordered_by_date_partition = Window.partitionBy(\"ownerUserId\").orderBy(\"creationDate\")\n",
    "\n",
    "(\n",
    "    posts_df.where(F.col(\"postTypeId\") == 1)\n",
    "    .select(\n",
    "        F.col(\"ownerUserId\"),\n",
    "        F.col(\"id\"),\n",
    "        F.col(\"creationDate\"),\n",
    "        F.lag(\"id\", 1).over(user_ordered_by_date_partition).alias(\"prev\"),\n",
    "        F.lead(\"id\", 1).over(user_ordered_by_date_partition).alias(\"next\"),\n",
    "    ).show(10, False)\n",
    ")"
   ]
  },
  {
   "cell_type": "markdown",
   "metadata": {},
   "source": [
    "### 5.1.3.3 사용자 정의 함수\n",
    "\n",
    "* 파이썬 사용자는 [Pandas UDF](https://spark.apache.org/docs/latest/sql-pyspark-pandas-with-arrow.html)를 권장함(속도 저하)"
   ]
  },
  {
   "cell_type": "code",
   "execution_count": 24,
   "metadata": {},
   "outputs": [
    {
     "name": "stdout",
     "output_type": "stream",
     "text": [
      "+-------------------------------------------------------------------+------+\n",
      "|tags                                                               |tagCnt|\n",
      "+-------------------------------------------------------------------+------+\n",
      "|&lt;word-choice&gt;                                                |1     |\n",
      "|&lt;english-comparison&gt;&lt;translation&gt;&lt;phrase-request&gt;|3     |\n",
      "|&lt;usage&gt;&lt;verbs&gt;                                         |2     |\n",
      "|&lt;usage&gt;&lt;tenses&gt;&lt;english-comparison&gt;              |3     |\n",
      "|&lt;usage&gt;&lt;punctuation&gt;                                   |2     |\n",
      "|&lt;usage&gt;&lt;tenses&gt;                                        |2     |\n",
      "|&lt;history&gt;&lt;english-comparison&gt;                          |2     |\n",
      "|&lt;idioms&gt;&lt;etymology&gt;                                    |2     |\n",
      "|&lt;idioms&gt;&lt;regional&gt;                                     |2     |\n",
      "|&lt;grammar&gt;                                                    |1     |\n",
      "+-------------------------------------------------------------------+------+\n",
      "only showing top 10 rows\n",
      "\n"
     ]
    }
   ],
   "source": [
    "countTags = F.udf(lambda tags: tags.count(\"&lt;\"), IntegerType())\n",
    "posts_df.filter(posts_df.postTypeId == 1).select(\"tags\", countTags(posts_df.tags).alias(\"tagCnt\")).show(10, False)"
   ]
  },
  {
   "cell_type": "code",
   "execution_count": 25,
   "metadata": {},
   "outputs": [
    {
     "data": {
      "text/plain": [
       "<function __main__.<lambda>(tags)>"
      ]
     },
     "execution_count": 25,
     "metadata": {},
     "output_type": "execute_result"
    }
   ],
   "source": [
    "spark.udf.register(\"countTags_udf\", lambda tags: tags.count(\"&lt;\"), IntegerType())"
   ]
  },
  {
   "cell_type": "code",
   "execution_count": 26,
   "metadata": {},
   "outputs": [
    {
     "name": "stdout",
     "output_type": "stream",
     "text": [
      "+-------------------------------------------------------------------+\n",
      "|tags                                                               |\n",
      "+-------------------------------------------------------------------+\n",
      "|&lt;word-choice&gt;                                                |\n",
      "|&lt;english-comparison&gt;&lt;translation&gt;&lt;phrase-request&gt;|\n",
      "|&lt;usage&gt;&lt;verbs&gt;                                         |\n",
      "|&lt;usage&gt;&lt;tenses&gt;&lt;english-comparison&gt;              |\n",
      "|&lt;usage&gt;&lt;punctuation&gt;                                   |\n",
      "|&lt;usage&gt;&lt;tenses&gt;                                        |\n",
      "|&lt;history&gt;&lt;english-comparison&gt;                          |\n",
      "|&lt;idioms&gt;&lt;etymology&gt;                                    |\n",
      "|&lt;idioms&gt;&lt;regional&gt;                                     |\n",
      "|&lt;grammar&gt;                                                    |\n",
      "+-------------------------------------------------------------------+\n",
      "only showing top 10 rows\n",
      "\n"
     ]
    }
   ],
   "source": [
    "posts_df.filter(posts_df.postTypeId == 1).select(\"tags\").show(10, False)"
   ]
  },
  {
   "cell_type": "markdown",
   "metadata": {},
   "source": [
    "* pandas udf 사례"
   ]
  },
  {
   "cell_type": "code",
   "execution_count": 27,
   "metadata": {},
   "outputs": [
    {
     "name": "stdout",
     "output_type": "stream",
     "text": [
      "+-------------------------------------------------------------------+-------------+\n",
      "|tags                                                               |str_cnt(tags)|\n",
      "+-------------------------------------------------------------------+-------------+\n",
      "|&lt;word-choice&gt;                                                |1            |\n",
      "|nan                                                                |0            |\n",
      "|&lt;english-comparison&gt;&lt;translation&gt;&lt;phrase-request&gt;|3            |\n",
      "|nan                                                                |0            |\n",
      "|nan                                                                |0            |\n",
      "|nan                                                                |0            |\n",
      "|nan                                                                |0            |\n",
      "|&lt;usage&gt;&lt;verbs&gt;                                         |2            |\n",
      "|nan                                                                |0            |\n",
      "|&lt;usage&gt;&lt;tenses&gt;&lt;english-comparison&gt;              |3            |\n",
      "+-------------------------------------------------------------------+-------------+\n",
      "only showing top 10 rows\n",
      "\n"
     ]
    }
   ],
   "source": [
    "import pandas as pd\n",
    "from pyspark.sql.functions import pandas_udf\n",
    "from pyspark.sql.types import LongType\n",
    "\n",
    "# Declare the function and create the UDF\n",
    "@pandas_udf(returnType=IntegerType())\n",
    "def str_cnt(tags: pd.Series) -> pd.Series:\n",
    "    return pd.Series(x.count(\"&lt;\") for x in tags)\n",
    "\n",
    "# str_cnt = pandas_udf(str_cnt, returnType=LongType())\n",
    "\n",
    "# Execute function as a Spark vectorized UDF\n",
    "posts_df.select(F.col(\"tags\"), str_cnt(F.col(\"tags\"))).show(10, False)"
   ]
  },
  {
   "cell_type": "markdown",
   "metadata": {},
   "source": [
    "### 5.1.4 결측 값 다루기"
   ]
  },
  {
   "cell_type": "code",
   "execution_count": 28,
   "metadata": {},
   "outputs": [
    {
     "name": "stdout",
     "output_type": "stream",
     "text": [
      "+------------+--------------------+-----------+--------------------+-----+--------------------+---------+--------------------+--------------------+-----------+----------------+----------+----+\n",
      "|commentCount|    lastActivityDate|ownerUserId|                body|score|        creationDate|viewCount|               title|                tags|answerCount|acceptedAnswerId|postTypeId|  id|\n",
      "+------------+--------------------+-----------+--------------------+-----+--------------------+---------+--------------------+--------------------+-----------+----------------+----------+----+\n",
      "|           5|2013-11-10 20:31:...|         12|&lt;p&gt;Come cre...|    1|2013-11-10 19:44:...|     61.0|Cosa sapreste dir...| &lt;word-choice&gt;|        1.0|             nan|         1|1166|\n",
      "|           2|2013-11-10 20:31:...|         17|&lt;p&gt;Il verbo...|    5|2013-11-10 19:58:...|      nan|                 nan|                 nan|        nan|             nan|         2|1167|\n",
      "|           1|2014-07-25 13:15:...|        154|&lt;p&gt;As part ...|   11|2013-11-10 22:03:...|    187.0|Ironic constructi...|&lt;english-compa...|        4.0|          1170.0|         1|1168|\n",
      "|           0|2013-11-10 22:15:...|         70|&lt;p&gt;&lt;em&g...|    3|2013-11-10 22:15:...|      nan|                 nan|                 nan|        nan|             nan|         2|1169|\n",
      "|           2|2013-11-10 22:17:...|         17|&lt;p&gt;There's ...|    8|2013-11-10 22:17:...|      nan|                 nan|                 nan|        nan|             nan|         2|1170|\n",
      "|           1|2013-11-11 09:51:...|         63|&lt;p&gt;As other...|    3|2013-11-11 09:51:...|      nan|                 nan|                 nan|        nan|             nan|         2|1171|\n",
      "|           1|2013-11-12 23:57:...|         63|&lt;p&gt;The expr...|    1|2013-11-11 10:09:...|      nan|                 nan|                 nan|        nan|             nan|         2|1172|\n",
      "|           9|2014-01-05 11:13:...|         63|&lt;p&gt;When I w...|    5|2013-11-11 10:28:...|    122.0|Is &quot;scancell...|&lt;usage&gt;&lt;...|        3.0|          1181.0|         1|1173|\n",
      "|           0|2013-11-11 10:58:...|         18|&lt;p&gt;Wow, wha...|    5|2013-11-11 10:58:...|      nan|                 nan|                 nan|        nan|             nan|         2|1174|\n",
      "|           1|2014-01-16 19:56:...|         63|&lt;p&gt;Suppose ...|    4|2013-11-11 11:31:...|    114.0|How should I tran...|&lt;usage&gt;&lt;...|        2.0|          1177.0|         1|1175|\n",
      "+------------+--------------------+-----------+--------------------+-----+--------------------+---------+--------------------+--------------------+-----------+----------------+----------+----+\n",
      "only showing top 10 rows\n",
      "\n",
      "+------------+--------------------+-----------+--------------------+-----+--------------------+---------+--------------------+--------------------+-----------+----------------+----------+----+\n",
      "|commentCount|    lastActivityDate|ownerUserId|                body|score|        creationDate|viewCount|               title|                tags|answerCount|acceptedAnswerId|postTypeId|  id|\n",
      "+------------+--------------------+-----------+--------------------+-----+--------------------+---------+--------------------+--------------------+-----------+----------------+----------+----+\n",
      "|           5|2013-11-10 20:31:...|         12|&lt;p&gt;Come cre...|    1|2013-11-10 19:44:...|     61.0|Cosa sapreste dir...| &lt;word-choice&gt;|        1.0|             nan|         1|1166|\n",
      "|           2|2013-11-10 20:31:...|         17|&lt;p&gt;Il verbo...|    5|2013-11-10 19:58:...|      nan|                 nan|                 nan|        nan|             nan|         2|1167|\n",
      "|           1|2014-07-25 13:15:...|        154|&lt;p&gt;As part ...|   11|2013-11-10 22:03:...|    187.0|Ironic constructi...|&lt;english-compa...|        4.0|          1170.0|         1|1168|\n",
      "|           0|2013-11-10 22:15:...|         70|&lt;p&gt;&lt;em&g...|    3|2013-11-10 22:15:...|      nan|                 nan|                 nan|        nan|             nan|         2|1169|\n",
      "|           2|2013-11-10 22:17:...|         17|&lt;p&gt;There's ...|    8|2013-11-10 22:17:...|      nan|                 nan|                 nan|        nan|             nan|         2|1170|\n",
      "|           1|2013-11-11 09:51:...|         63|&lt;p&gt;As other...|    3|2013-11-11 09:51:...|      nan|                 nan|                 nan|        nan|             nan|         2|1171|\n",
      "|           1|2013-11-12 23:57:...|         63|&lt;p&gt;The expr...|    1|2013-11-11 10:09:...|      nan|                 nan|                 nan|        nan|             nan|         2|1172|\n",
      "|           9|2014-01-05 11:13:...|         63|&lt;p&gt;When I w...|    5|2013-11-11 10:28:...|    122.0|Is &quot;scancell...|&lt;usage&gt;&lt;...|        3.0|          1181.0|         1|1173|\n",
      "|           0|2013-11-11 10:58:...|         18|&lt;p&gt;Wow, wha...|    5|2013-11-11 10:58:...|      nan|                 nan|                 nan|        nan|             nan|         2|1174|\n",
      "|           1|2014-01-16 19:56:...|         63|&lt;p&gt;Suppose ...|    4|2013-11-11 11:31:...|    114.0|How should I tran...|&lt;usage&gt;&lt;...|        2.0|          1177.0|         1|1175|\n",
      "+------------+--------------------+-----------+--------------------+-----+--------------------+---------+--------------------+--------------------+-----------+----------------+----------+----+\n",
      "only showing top 10 rows\n",
      "\n"
     ]
    }
   ],
   "source": [
    "clean_posts = posts_df.na.drop()\n",
    "clean_posts.count()\n",
    "\n",
    "posts_df.na.fill({\"viewCount\": 0}).show(10)\n",
    "\n",
    "posts_df.na.replace(1177, 3000, [\"id\", \"acceptedAnswerId\"]).show(10)"
   ]
  },
  {
   "cell_type": "markdown",
   "metadata": {},
   "source": [
    "### 5.1.5 DataFrame을 Rdd로 변환(생략)\n",
    "* 사용성 낮음\n",
    "\n",
    "### 5.1.6 그룹핑"
   ]
  },
  {
   "cell_type": "code",
   "execution_count": 29,
   "metadata": {},
   "outputs": [
    {
     "name": "stdout",
     "output_type": "stream",
     "text": [
      "+-----------+--------------------+----------+-----+\n",
      "|ownerUserId|                tags|postTypeId|count|\n",
      "+-----------+--------------------+----------+-----+\n",
      "|         99|&lt;word-choice&g...|         1|    1|\n",
      "|         99|&lt;grammar&gt;&l...|         1|    1|\n",
      "|         98|                 nan|         2|    7|\n",
      "|         95|                 nan|         2|   29|\n",
      "|         95|     &lt;grammar&gt;|         1|    3|\n",
      "|         95|   &lt;etymology&gt;|         1|    1|\n",
      "|         95|&lt;orthography&g...|         1|    1|\n",
      "|         91|&lt;grammar&gt;&l...|         1|    1|\n",
      "|         88|                 nan|         2|    2|\n",
      "|         88|&lt;word-choice&g...|         1|    1|\n",
      "|         88|&lt;word-choice&g...|         1|    1|\n",
      "|         87|                 nan|         2|    6|\n",
      "|        862|                 nan|         2|    1|\n",
      "|        855|   &lt;resources&gt;|         1|    1|\n",
      "|         85|&lt;articles&gt;&...|         1|    1|\n",
      "|         85|                 nan|         2|    1|\n",
      "|        846|&lt;translation&g...|         1|    1|\n",
      "|        845|&lt;word-meaning&...|         1|    1|\n",
      "|        842|&lt;verbs&gt;&lt;...|         1|    1|\n",
      "|        835|&lt;grammar&gt;&l...|         1|    1|\n",
      "+-----------+--------------------+----------+-----+\n",
      "only showing top 20 rows\n",
      "\n"
     ]
    }
   ],
   "source": [
    "# 집계함수 예제\n",
    "\n",
    "posts_df.groupBy(\"ownerUserId\", \"tags\", \"postTypeId\").count().orderBy(F.desc(\"ownerUserId\")).show()"
   ]
  },
  {
   "cell_type": "markdown",
   "metadata": {},
   "source": [
    "* 일반적인 그룹핑 함수"
   ]
  },
  {
   "cell_type": "code",
   "execution_count": 30,
   "metadata": {},
   "outputs": [
    {
     "name": "stdout",
     "output_type": "stream",
     "text": [
      "+-----------+----------+\n",
      "|ownerUserId|max(score)|\n",
      "+-----------+----------+\n",
      "|        124|         9|\n",
      "|        591|         7|\n",
      "|        307|         0|\n",
      "|        334|         3|\n",
      "|        581|         8|\n",
      "|         15|         8|\n",
      "|        232|         6|\n",
      "|        234|         5|\n",
      "|        448|         3|\n",
      "|        483|         5|\n",
      "+-----------+----------+\n",
      "only showing top 10 rows\n",
      "\n"
     ]
    }
   ],
   "source": [
    "posts_df.groupBy(F.col(\"ownerUserId\")).agg(F.max(\"score\")).show(10)"
   ]
  },
  {
   "cell_type": "code",
   "execution_count": 31,
   "metadata": {},
   "outputs": [],
   "source": [
    "simple_df = (\n",
    "    posts_df\n",
    "    .where((F.col(\"ownerUserId\") >= 13) & (F.col(\"ownerUserId\") <= 15))\n",
    ")"
   ]
  },
  {
   "cell_type": "markdown",
   "metadata": {},
   "source": [
    "* 모든 조합을 대상으로 계산"
   ]
  },
  {
   "cell_type": "code",
   "execution_count": 32,
   "metadata": {},
   "outputs": [
    {
     "name": "stdout",
     "output_type": "stream",
     "text": [
      "+-----------+----+----------+-----+\n",
      "|ownerUserId|tags|postTypeId|count|\n",
      "+-----------+----+----------+-----+\n",
      "|         15| nan|         2|    2|\n",
      "|         14|null|      null|    2|\n",
      "|         14| nan|         2|    2|\n",
      "|         13|null|      null|    1|\n",
      "|         15|null|      null|    2|\n",
      "|         13| nan|      null|    1|\n",
      "|       null|null|      null|    5|\n",
      "|         15| nan|      null|    2|\n",
      "|       null| nan|         2|    5|\n",
      "|         14|null|         2|    2|\n",
      "|       null|null|         2|    5|\n",
      "|         13| nan|         2|    1|\n",
      "|         13|null|         2|    1|\n",
      "|         15|null|         2|    2|\n",
      "|         14| nan|      null|    2|\n",
      "|       null| nan|      null|    5|\n",
      "+-----------+----+----------+-----+\n",
      "\n"
     ]
    }
   ],
   "source": [
    "simple_df.cube(\"ownerUserId\", \"tags\", \"postTypeId\").count().show()"
   ]
  },
  {
   "cell_type": "markdown",
   "metadata": {},
   "source": [
    "* 지정된 컬럼 순으로 순열을 사용"
   ]
  },
  {
   "cell_type": "code",
   "execution_count": 33,
   "metadata": {},
   "outputs": [
    {
     "name": "stdout",
     "output_type": "stream",
     "text": [
      "+-----------+----+----------+-----+\n",
      "|ownerUserId|tags|postTypeId|count|\n",
      "+-----------+----+----------+-----+\n",
      "|         15| nan|         2|    2|\n",
      "|         14|null|      null|    2|\n",
      "|         14| nan|         2|    2|\n",
      "|         13|null|      null|    1|\n",
      "|         15|null|      null|    2|\n",
      "|         13| nan|      null|    1|\n",
      "|       null|null|      null|    5|\n",
      "|         15| nan|      null|    2|\n",
      "|         13| nan|         2|    1|\n",
      "|         14| nan|      null|    2|\n",
      "+-----------+----+----------+-----+\n",
      "\n"
     ]
    }
   ],
   "source": [
    "simple_df.rollup(\"ownerUserId\", \"tags\", \"postTypeId\").count().show()"
   ]
  },
  {
   "cell_type": "markdown",
   "metadata": {},
   "source": [
    "### 5.1.7 데이터 조인\n",
    "\n",
    "* spark.sql.shuffle.partitions 변수로 파티션 사이즈를 결정(기본값은 200)"
   ]
  },
  {
   "cell_type": "code",
   "execution_count": 34,
   "metadata": {},
   "outputs": [
    {
     "data": {
      "text/plain": [
       "Row(id='2657', postId='135', voteTypeId='2', creationDate='2013-11-22 00:00:00.0')"
      ]
     },
     "execution_count": 34,
     "metadata": {},
     "output_type": "execute_result"
    }
   ],
   "source": [
    "itVotesRaw = spark.read.csv(\"../book-samples/ch05/italianVotes.csv\", sep=\"~\")\n",
    "itVotesRaw = itVotesRaw.withColumnRenamed('_c0', \"id\")\n",
    "itVotesRaw = itVotesRaw.withColumnRenamed('_c1', \"postId\")\n",
    "itVotesRaw = itVotesRaw.withColumnRenamed('_c2', \"voteTypeId\")\n",
    "itVotesRaw = itVotesRaw.withColumnRenamed('_c3', \"creationDate\")\n",
    "\n",
    "itVotesRaw.head()"
   ]
  },
  {
   "cell_type": "code",
   "execution_count": 35,
   "metadata": {},
   "outputs": [
    {
     "name": "stdout",
     "output_type": "stream",
     "text": [
      "+----+------------+--------------------+-----------+--------------------+-----+--------------------+---------+--------------------+--------------------+-----------+----------------+----------+------+----------+--------------------+\n",
      "|  id|commentCount|    lastActivityDate|ownerUserId|                body|score|        creationDate|viewCount|               title|                tags|answerCount|acceptedAnswerId|postTypeId|postId|voteTypeId|        creationDate|\n",
      "+----+------------+--------------------+-----------+--------------------+-----+--------------------+---------+--------------------+--------------------+-----------+----------------+----------+------+----------+--------------------+\n",
      "|1613|          16|2014-01-30 04:52:...|         95|&lt;p&gt;Solitame...|    6|2014-01-19 10:57:...|    169.0|prestiti dallo sp...|     &lt;grammar&gt;|        2.0|             nan|         1|   143|         2|2013-11-09 00:00:...|\n",
      "|1614|           0|2014-01-19 21:44:...|         95|&lt;p&gt;the rule...|    9|2014-01-19 11:02:...|      nan|                 nan|                 nan|        nan|             nan|         2|     5|         2|2013-11-09 00:00:...|\n",
      "|1615|           1|2014-01-20 09:41:...|        341|&lt;p&gt;In Lomba...|    3|2014-01-20 09:41:...|      nan|                 nan|                 nan|        nan|             nan|         2|   143|         2|2013-11-09 00:00:...|\n",
      "|1617|           1|2014-01-20 10:28:...|         70|&lt;p&gt;A giudic...|    8|2014-01-20 10:28:...|      nan|                 nan|                 nan|        nan|             nan|         2|  1144|         2|2013-11-09 00:00:...|\n",
      "|1618|           0|2014-04-13 21:48:...|         12|&lt;blockquote&gt...|    3|2014-01-20 21:16:...|    240.0|'man mano' e 'via...|&lt;word-choice&g...|        6.0|             nan|         1|  1145|         2|2013-11-09 00:00:...|\n",
      "|1619|           1|2014-01-22 14:57:...|        132|&lt;p&gt;&quot;in...|    3|2014-01-20 23:41:...|      nan|                 nan|                 nan|        nan|             nan|         2|  1145|         2|2013-11-09 00:00:...|\n",
      "|1620|           0|2014-01-20 23:49:...|         37|&lt;p&gt;La locuz...|    4|2014-01-20 23:49:...|      nan|                 nan|                 nan|        nan|             nan|         2|  1143|         2|2013-11-09 00:00:...|\n",
      "|1621|          11|2014-01-22 16:32:...|         12|&lt;p&gt;Tito Boe...|    5|2014-01-21 03:22:...|    127.0|Significato di 'a...|     &lt;grammar&gt;|        3.0|          1626.0|         1|  1141|         2|2013-11-09 00:00:...|\n",
      "|1622|           0|2014-01-21 14:02:...|        341|&lt;p&gt;da &lt;a...|    1|2014-01-21 08:52:...|      nan|                 nan|                 nan|        nan|             nan|         2|  1147|         2|2013-11-09 00:00:...|\n",
      "|1623|           0|2014-01-21 09:33:...|        380|&lt;p&gt;&lt;stro...|    0|2014-01-21 09:33:...|      nan|                 nan|                 nan|        nan|             nan|         2|   123|         2|2013-11-09 00:00:...|\n",
      "+----+------------+--------------------+-----------+--------------------+-----+--------------------+---------+--------------------+--------------------+-----------+----------------+----------+------+----------+--------------------+\n",
      "only showing top 10 rows\n",
      "\n"
     ]
    }
   ],
   "source": [
    "posts_df.join(itVotesRaw, \"id\").show(10)"
   ]
  },
  {
   "cell_type": "code",
   "execution_count": 36,
   "metadata": {},
   "outputs": [
    {
     "name": "stdout",
     "output_type": "stream",
     "text": [
      "+----+------------+--------------------+-----------+--------------------+-----+--------------------+---------+--------------------+--------------------+-----------+----------------+----------+------+----------+--------------------+\n",
      "|  id|commentCount|    lastActivityDate|ownerUserId|                body|score|        creationDate|viewCount|               title|                tags|answerCount|acceptedAnswerId|postTypeId|postId|voteTypeId|        creationDate|\n",
      "+----+------------+--------------------+-----------+--------------------+-----+--------------------+---------+--------------------+--------------------+-----------+----------------+----------+------+----------+--------------------+\n",
      "|1159|           0|2013-11-10 03:29:...|          4|&lt;p&gt;I was wa...|    8|2013-11-10 03:29:...|      nan|                 nan|                 nan|        nan|             nan|         2|  null|      null|                null|\n",
      "|1436|           5|2013-11-30 23:16:...|         57|&lt;p&gt;The usag...|    4|2013-11-30 23:16:...|      nan|                 nan|                 nan|        nan|             nan|         2|  null|      null|                null|\n",
      "|1512|           1|2013-12-18 09:52:...|         82|&lt;p&gt;I can't ...|    5|2013-12-17 09:09:...|     79.0|Where does the ex...|&lt;idioms&gt;&lt...|        1.0|          1517.0|         1|  null|      null|                null|\n",
      "|1572|           3|2014-01-05 19:02:...|         70|&lt;p&gt;Unfortun...|    4|2014-01-05 19:02:...|      nan|                 nan|                 nan|        nan|             nan|         2|  null|      null|                null|\n",
      "|2069|           0|2014-07-11 21:37:...|        519|&lt;p&gt;&lt;em&g...|   16|2014-07-11 21:37:...|      nan|                 nan|                 nan|        nan|             nan|         2|  1262|         2|2013-11-14 00:00:...|\n",
      "|2088|           0|2014-07-25 13:47:...|        749|&lt;p&gt;My girlf...|    6|2014-07-17 17:07:...|    184.0|“Avere senso” vs ...|&lt;word-usage&gt...|        1.0|          2089.0|         1|  1261|         2|2013-11-14 00:00:...|\n",
      "|2136|           4|2014-07-29 08:14:...|        779|&lt;p&gt;In merit...|    3|2014-07-29 07:54:...|     83.0|Perché si dice &q...|   &lt;etymology&gt;|        0.0|             nan|         1|  1243|         2|2013-11-15 00:00:...|\n",
      "|2162|           2|2014-08-11 07:50:...|        591|&lt;p&gt;There is...|    3|2014-08-11 07:50:...|      nan|                 nan|                 nan|        nan|             nan|         2|  1256|         2|2013-11-15 00:00:...|\n",
      "|2294|           1|2014-09-01 16:11:...|          5|&lt;p&gt;Sebbene ...|    1|2014-09-01 16:11:...|      nan|                 nan|                 nan|        nan|             nan|         2|  1299|         2|2013-11-17 00:00:...|\n",
      "|2904|        null|                null|       null|                null| null|                null|     null|                null|                null|       null|            null|      null|  1398|         2|2013-11-26 00:00:...|\n",
      "+----+------------+--------------------+-----------+--------------------+-----+--------------------+---------+--------------------+--------------------+-----------+----------------+----------+------+----------+--------------------+\n",
      "only showing top 10 rows\n",
      "\n"
     ]
    }
   ],
   "source": [
    "posts_df.join(itVotesRaw, \"id\", \"outer\").show(10)"
   ]
  },
  {
   "cell_type": "markdown",
   "metadata": {},
   "source": [
    "## 5.3 SQL 명령\n",
    "### 5.3.1 테이블 카탈로그와 하이브 메타스토어\n",
    "\n",
    "#### 5.3.1.1 테이블을 임시로 등록"
   ]
  },
  {
   "cell_type": "code",
   "execution_count": 37,
   "metadata": {},
   "outputs": [],
   "source": [
    "posts_df.createOrReplaceTempView(\"posts_temp\")"
   ]
  },
  {
   "cell_type": "markdown",
   "metadata": {},
   "source": [
    "#### 5.3.1.2 테이블을 영구적으로 등록\n",
    "* saveAsTable() 함수를 사용"
   ]
  },
  {
   "cell_type": "code",
   "execution_count": 38,
   "metadata": {},
   "outputs": [],
   "source": [
    "# spark.sql(\"drop table posts\")\n",
    "# spark.sql(\"drop table votes\")\n",
    "\n",
    "# !rm -r /user/hive/warehouse/posts\n",
    "# !rm -r /user/hive/warehouse/votes\n",
    "# !pwd"
   ]
  },
  {
   "cell_type": "code",
   "execution_count": 39,
   "metadata": {},
   "outputs": [],
   "source": [
    "posts_df.write.option(\"path\", \"/home/jovyan/work/spark-warehouse/posts\").format(\"parquet\").mode(\"overwrite\").saveAsTable(\"posts\")\n",
    "itVotesRaw.write.option(\"path\", \"/home/jovyan/work/spark-warehouse/votes\").format(\"parquet\").mode(\"overwrite\").saveAsTable(\"votes\")"
   ]
  },
  {
   "cell_type": "markdown",
   "metadata": {},
   "source": [
    "#### 5.3.1.3 스파크 테이블 카탈로그"
   ]
  },
  {
   "cell_type": "code",
   "execution_count": 40,
   "metadata": {},
   "outputs": [
    {
     "data": {
      "text/plain": [
       "[Database(name='default', description='Default Hive database', locationUri='file:/user/hive/warehouse')]"
      ]
     },
     "execution_count": 40,
     "metadata": {},
     "output_type": "execute_result"
    }
   ],
   "source": [
    "spark.catalog.listDatabases()"
   ]
  },
  {
   "cell_type": "code",
   "execution_count": 41,
   "metadata": {},
   "outputs": [
    {
     "data": {
      "text/plain": [
       "[Table(name='posts', database='default', description=None, tableType='EXTERNAL', isTemporary=False),\n",
       " Table(name='votes', database='default', description=None, tableType='EXTERNAL', isTemporary=False),\n",
       " Table(name='posts_temp', database=None, description=None, tableType='TEMPORARY', isTemporary=True)]"
      ]
     },
     "execution_count": 41,
     "metadata": {},
     "output_type": "execute_result"
    }
   ],
   "source": [
    "spark.catalog.listTables() # tableType='MANAGED' 는 스파크가 해당 테이블까지 관리함을 의미"
   ]
  },
  {
   "cell_type": "code",
   "execution_count": 42,
   "metadata": {},
   "outputs": [
    {
     "data": {
      "text/plain": [
       "'default'"
      ]
     },
     "execution_count": 42,
     "metadata": {},
     "output_type": "execute_result"
    }
   ],
   "source": [
    "spark.catalog.currentDatabase()"
   ]
  },
  {
   "cell_type": "code",
   "execution_count": 43,
   "metadata": {},
   "outputs": [
    {
     "data": {
      "text/plain": [
       "[Column(name='id', description=None, dataType='string', nullable=True, isPartition=False, isBucket=False),\n",
       " Column(name='postId', description=None, dataType='string', nullable=True, isPartition=False, isBucket=False),\n",
       " Column(name='voteTypeId', description=None, dataType='string', nullable=True, isPartition=False, isBucket=False),\n",
       " Column(name='creationDate', description=None, dataType='string', nullable=True, isPartition=False, isBucket=False)]"
      ]
     },
     "execution_count": 43,
     "metadata": {},
     "output_type": "execute_result"
    }
   ],
   "source": [
    "spark.catalog.listColumns(\"votes\")"
   ]
  },
  {
   "cell_type": "code",
   "execution_count": 44,
   "metadata": {},
   "outputs": [
    {
     "data": {
      "text/plain": [
       "[Function(name='!', description=None, className='org.apache.spark.sql.catalyst.expressions.Not', isTemporary=True),\n",
       " Function(name='%', description=None, className='org.apache.spark.sql.catalyst.expressions.Remainder', isTemporary=True),\n",
       " Function(name='&', description=None, className='org.apache.spark.sql.catalyst.expressions.BitwiseAnd', isTemporary=True),\n",
       " Function(name='*', description=None, className='org.apache.spark.sql.catalyst.expressions.Multiply', isTemporary=True),\n",
       " Function(name='+', description=None, className='org.apache.spark.sql.catalyst.expressions.Add', isTemporary=True)]"
      ]
     },
     "execution_count": 44,
     "metadata": {},
     "output_type": "execute_result"
    }
   ],
   "source": [
    "spark.catalog.listFunctions()[:5] # SQL 함수 목록"
   ]
  },
  {
   "cell_type": "code",
   "execution_count": 45,
   "metadata": {},
   "outputs": [
    {
     "data": {
      "text/plain": [
       "DataFrame[commentCount: string, lastActivityDate: string, ownerUserId: string, body: string, score: string, creationDate: string, viewCount: string, title: string, tags: string, answerCount: string, acceptedAnswerId: string, postTypeId: string, id: string]"
      ]
     },
     "execution_count": 45,
     "metadata": {},
     "output_type": "execute_result"
    }
   ],
   "source": [
    "spark.sql(\"select * from posts\")"
   ]
  },
  {
   "cell_type": "markdown",
   "metadata": {},
   "source": [
    "#### 5.3.1.4 원격 하이브 메타스토어 설정\n",
    "* hive-site.xml 매개 변수들로 설정\n",
    "* spark.sql.warehouse.dir 매개변수는 오버라이드 됨\n",
    "* hive.metastore.warehouse.dir 변수로 기본 저장위치 설정\n",
    "* 위의 설정이 잘 동작하지 않아 write.option(\"path\", \"/some/path/\")를 추가함"
   ]
  },
  {
   "cell_type": "markdown",
   "metadata": {},
   "source": [
    "### 5.3.3. 쓰리프트 서버로 스파크 SQL 접속"
   ]
  },
  {
   "cell_type": "code",
   "execution_count": 46,
   "metadata": {},
   "outputs": [],
   "source": [
    "# !bash /usr/local/spark/sbin/start-thriftserver.sh"
   ]
  },
  {
   "cell_type": "markdown",
   "metadata": {},
   "source": [
    "* beeline으로 테스트 시 tables 정보값이 null인 문제(미해결)"
   ]
  },
  {
   "cell_type": "markdown",
   "metadata": {},
   "source": [
    "## 5.4 DataFrame을 저장하고 불러오기\n",
    "\n",
    "### 5.4.1 기본 데이터 소스\n",
    "* JSON\n",
    "* ORC\n",
    "* Parquet\n",
    "\n",
    "### 5.4.2 데이터 저장\n",
    "* 주요 함수\n",
    "    * saveAsTable\n",
    "    * insertInto: 하이브 메타스토어에 존재하는 테이블을 지정해야 함\n",
    "    * save\n",
    "* format (default: parquet)\n",
    "    * orc\n",
    "    * json\n",
    "    * jdbc\n",
    "* mode\n",
    "    * overwrite \n",
    "    * append\n",
    "    * ignore \n",
    "    \n",
    "### 5.4.3 데이터 불러오기\n",
    "* read 함수\n",
    "* jdbc"
   ]
  },
  {
   "cell_type": "code",
   "execution_count": 54,
   "metadata": {},
   "outputs": [
    {
     "name": "stdout",
     "output_type": "stream",
     "text": [
      "\u001b[33mWARNING: The directory '/home/jovyan/.cache/pip' or its parent directory is not owned or is not writable by the current user. The cache has been disabled. Check the permissions and owner of that directory. If executing pip with sudo, you may want sudo's -H flag.\u001b[0m\n",
      "Requirement already satisfied: mysql-connector in /opt/conda/lib/python3.8/site-packages (2.2.9)\n"
     ]
    }
   ],
   "source": [
    "# !pip install mysql-connector"
   ]
  },
  {
   "cell_type": "code",
   "execution_count": 60,
   "metadata": {},
   "outputs": [],
   "source": [
    "# import mysql.connector\n",
    "# conn = mysql.connector.connect(host='mariadb',\n",
    "#                                database='metastore_db',\n",
    "#                                user='admin',\n",
    "#                                port=3306,\n",
    "#                                password='admin')\n",
    "# cursor = conn.cursor(prepared=True)\n",
    "# result = cursor.execute(\"SELECT * FROM TBLS\")\n",
    "# result"
   ]
  },
  {
   "cell_type": "code",
   "execution_count": 48,
   "metadata": {},
   "outputs": [
    {
     "name": "stdout",
     "output_type": "stream",
     "text": [
      "+------+-----------+-----+----------------+-----+----------+---------+-----+--------+--------------+------------------+------------------+------------------+\n",
      "|TBL_ID|CREATE_TIME|DB_ID|LAST_ACCESS_TIME|OWNER|OWNER_TYPE|RETENTION|SD_ID|TBL_NAME|      TBL_TYPE|VIEW_EXPANDED_TEXT|VIEW_ORIGINAL_TEXT|IS_REWRITE_ENABLED|\n",
      "+------+-----------+-----+----------------+-----+----------+---------+-----+--------+--------------+------------------+------------------+------------------+\n",
      "|    68| 1605032892|    1|               0| root|      USER|        0|   68|   posts|EXTERNAL_TABLE|              null|              null|             false|\n",
      "|    69| 1605032892|    1|               0| root|      USER|        0|   69|   votes|EXTERNAL_TABLE|              null|              null|             false|\n",
      "+------+-----------+-----+----------------+-----+----------+---------+-----+--------+--------------+------------------+------------------+------------------+\n",
      "\n"
     ]
    }
   ],
   "source": [
    "dataframe_mysql = spark.read.format(\"jdbc\").options(\n",
    "    url=\"jdbc:mysql://mariadb/metastore_db\",\n",
    "    driver = \"com.mysql.cj.jdbc.Driver\",\n",
    "    dbtable = \"TBLS\",\n",
    "    user=\"admin\",\n",
    "    password=\"admin\").load()\n",
    "\n",
    "dataframe_mysql.show()"
   ]
  },
  {
   "cell_type": "markdown",
   "metadata": {},
   "source": [
    "* 퀴리 푸시다운\n",
    "    * DataFrame을 만들기 전에 데이터베이스 자체에서 데이터를 처리하도록 명령하는 것\n"
   ]
  },
  {
   "cell_type": "code",
   "execution_count": 49,
   "metadata": {},
   "outputs": [
    {
     "name": "stdout",
     "output_type": "stream",
     "text": [
      "+--------+\n",
      "|TBL_NAME|\n",
      "+--------+\n",
      "|   posts|\n",
      "|   votes|\n",
      "+--------+\n",
      "\n"
     ]
    }
   ],
   "source": [
    "pushdownQuery = \"\"\"(SELECT DISTINCT(TBL_NAME) FROM TBLS) AS TBLS \"\"\"\n",
    "dbDataFrame = spark.read.format(\"jdbc\")\\\n",
    "    .option(\"url\", \"jdbc:mysql://mariadb/metastore_db\")\\\n",
    "    .option(\"dbtable\", pushdownQuery)\\\n",
    "    .option(\"driver\", \"com.mysql.cj.jdbc.Driver\")\\\n",
    "    .option(\"user\", \"admin\")\\\n",
    "    .option(\"password\", \"admin\")\\\n",
    "    .load()\n",
    "\n",
    "dbDataFrame.show()"
   ]
  }
 ],
 "metadata": {
  "kernelspec": {
   "display_name": "Python 3",
   "language": "python",
   "name": "python3"
  },
  "language_info": {
   "codemirror_mode": {
    "name": "ipython",
    "version": 3
   },
   "file_extension": ".py",
   "mimetype": "text/x-python",
   "name": "python",
   "nbconvert_exporter": "python",
   "pygments_lexer": "ipython3",
   "version": "3.8.6"
  }
 },
 "nbformat": 4,
 "nbformat_minor": 4
}
