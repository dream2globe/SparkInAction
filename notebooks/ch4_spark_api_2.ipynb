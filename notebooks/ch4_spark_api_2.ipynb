{
 "cells": [
  {
   "cell_type": "code",
   "execution_count": 1,
   "metadata": {},
   "outputs": [],
   "source": [
    "from pyspark.sql import SparkSession\n",
    "\n",
    "spark = (\n",
    "    SparkSession\n",
    "        .builder\n",
    "        .appName(\"Chapter 4 Spark API\")\n",
    "        .getOrCreate()\n",
    ")"
   ]
  },
  {
   "cell_type": "markdown",
   "metadata": {},
   "source": [
    "#### 4.2.2.4 셔플링 관련 매개변수\n",
    "\n",
    "- [Spark Configuration](https://spark.apache.org/docs/latest/configuration.html#shuffle-behavior)\n",
    "    - spark.shuffle.manager (없음)\n",
    "    - spark.shuffle.consolidateFiles (없음)\n",
    "    - spark.shuffle.memoryFraction\n",
    "        - spark.memory.fraction (변경)\n",
    "        - default 0.6\n",
    "    - spark.shuffle.spill.compress\n",
    "        - default: true\n",
    "    - spark.shuffle.compress\n",
    "        - default: true\n",
    "    - spark.shuffle.spill.batchSize (없음)\n",
    "    - spark.shuffle.service.port\n",
    "        - default: 7337"
   ]
  },
  {
   "cell_type": "markdown",
   "metadata": {},
   "source": [
    "### 4.2.3 RDD 파티션 변경\n",
    "- 작업 부하를 효율적으로 분산시키거나 메모리 문제를 방지하는 목적\n",
    "- partitionBy, coalesce, repartition, repartitionAndSortWithinPartition\n",
    "\n",
    "#### 4.2.3.1 partitionBy\n",
    "- Pair RDD 에서만 사용 가능, 기존과 파티셔너와 다르면 새로운 RDD를 생성\n",
    "\n",
    "#### 4.2.3.2 coalesce, repartition\n",
    "- 파티션 개수를 줄이거나 늘릴 때 사용\n",
    "- shuffle = True 인 경우 이전까지 기존 파티셔너를 사용하고 이후에는 변경된 파티셔너를 사용\n",
    "- shuffle = False 인 경우 이전에도 변경된 파티셔너를 사용"
   ]
  },
  {
   "cell_type": "markdown",
   "metadata": {},
   "source": []
  }
 ],
 "metadata": {
  "kernelspec": {
   "display_name": "Python 3",
   "language": "python",
   "name": "python3"
  },
  "language_info": {
   "codemirror_mode": {
    "name": "ipython",
    "version": 3
   },
   "file_extension": ".py",
   "mimetype": "text/x-python",
   "name": "python",
   "nbconvert_exporter": "python",
   "pygments_lexer": "ipython3",
   "version": "3.8.3"
  }
 },
 "nbformat": 4,
 "nbformat_minor": 4
}
